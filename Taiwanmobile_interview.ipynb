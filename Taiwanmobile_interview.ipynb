{
 "cells": [
  {
   "cell_type": "code",
   "execution_count": 100,
   "metadata": {},
   "outputs": [],
   "source": [
    "from typing import List\n",
    "from typing import Optional\n",
    "from collections import defaultdict\n",
    "import math"
   ]
  },
  {
   "attachments": {},
   "cell_type": "markdown",
   "metadata": {},
   "source": [
    "# 2023/6/15"
   ]
  },
  {
   "attachments": {},
   "cell_type": "markdown",
   "metadata": {},
   "source": [
    "1093. Statistics from a Large Sample\n"
   ]
  },
  {
   "cell_type": "code",
   "execution_count": 97,
   "metadata": {},
   "outputs": [],
   "source": [
    "class Solution:\n",
    "    def sampleStats(self, count: List[int]) -> List[float]:\n",
    "        \n",
    "        # Initialization data\n",
    "        minimum = 255\n",
    "        maximum = 0\n",
    "        total = 0\n",
    "        cnt = 0 \n",
    "        mode = {0:0}\n",
    "        \n",
    "        # Run the first loop to get min, max, mean, mode,\n",
    "        for i,num in enumerate(count):\n",
    "            \n",
    "            # Skip this loop as long as it occurs 0 times\n",
    "            if num==0:\n",
    "                continue\n",
    "\n",
    "            if minimum==255 :\n",
    "                minimum = i\n",
    "            maximum = i \n",
    "            total += i*num\n",
    "            cnt += num\n",
    "\n",
    "            # Update the dictionary when there are more occurrences\n",
    "            if num > list(mode.values())[0]:\n",
    "                mode = {i:num}\n",
    "                \n",
    "        # Calculate the middle number \n",
    "        mid = math.ceil(cnt/2) \n",
    "        for i in range(len(count)):\n",
    "            \n",
    "            if count[i]==0:\n",
    "                continue\n",
    "            \n",
    "            mid -= count[i]\n",
    "\n",
    "            if mid<0:\n",
    "                median = i\n",
    "                break\n",
    "    \n",
    "            elif mid==0:\n",
    "                # When the number of occurrences is even, you must find the next number with an occurrence greater than 0\n",
    "                if cnt%2==0:\n",
    "                    j = i+1\n",
    "                    while count[j]==0:\n",
    "                        j+=1\n",
    "                    \n",
    "                    median = (i + j)/2\n",
    "                else:\n",
    "                    median = i\n",
    "                break\n",
    "        \n",
    "        return [minimum,maximum,total/cnt,median,list(mode.keys())[0]]\n",
    "            "
   ]
  },
  {
   "attachments": {},
   "cell_type": "markdown",
   "metadata": {},
   "source": [
    "# 2023/6/16"
   ]
  },
  {
   "attachments": {},
   "cell_type": "markdown",
   "metadata": {},
   "source": [
    "1742. Maximum Number of Balls in a Box"
   ]
  },
  {
   "cell_type": "code",
   "execution_count": 47,
   "metadata": {},
   "outputs": [],
   "source": [
    "class Solution:\n",
    "    def countBalls(self, lowLimit: int, highLimit: int) -> int:\n",
    "\n",
    "        box = [0 for i in range(9*5+1)]\n",
    "\n",
    "        for i in range(lowLimit,highLimit+1):\n",
    "            print(i)\n",
    "            box[sum([int(digit) for digit in str(i)])]+=1\n",
    "        \n",
    "        return max(box)"
   ]
  },
  {
   "cell_type": "code",
   "execution_count": 55,
   "metadata": {},
   "outputs": [],
   "source": [
    "class Solution:\n",
    "    def countBalls(self, lowLimit: int, highLimit: int) -> int:\n",
    "\n",
    "        box = {}\n",
    "\n",
    "        for i in range(lowLimit,highLimit+1):\n",
    "            sum_ = 0\n",
    "            while i > 0:\n",
    "                sum_+=i%10\n",
    "                i//=10\n",
    "            \n",
    "            if sum_ not in box:\n",
    "                box[sum_]=1\n",
    "            else:\n",
    "                box[sum_]+=1\n",
    "        \n",
    "        return max(box.values())"
   ]
  },
  {
   "attachments": {},
   "cell_type": "markdown",
   "metadata": {},
   "source": [
    "2264. Largest 3-Same-Digit Number in String"
   ]
  },
  {
   "cell_type": "code",
   "execution_count": null,
   "metadata": {},
   "outputs": [],
   "source": [
    "class Solution:\n",
    "    def largestGoodInteger(self, num: str) -> str:\n",
    "\n",
    "\n",
    "        n = len(num)\n",
    "        largest_digit = -1\n",
    "        for i in range(n-2):\n",
    "            if len(set(num[i:i+3]))==1 and int(num[i]) > largest_digit:\n",
    "                largest_digit = int(num[i])\n",
    "        \n",
    "        return str(largest_digit)*3 if largest_digit >= 0 else \"\""
   ]
  }
 ],
 "metadata": {
  "kernelspec": {
   "display_name": "leetcode",
   "language": "python",
   "name": "python3"
  },
  "language_info": {
   "codemirror_mode": {
    "name": "ipython",
    "version": 3
   },
   "file_extension": ".py",
   "mimetype": "text/x-python",
   "name": "python",
   "nbconvert_exporter": "python",
   "pygments_lexer": "ipython3",
   "version": "3.10.10"
  },
  "orig_nbformat": 4
 },
 "nbformat": 4,
 "nbformat_minor": 2
}
