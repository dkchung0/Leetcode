{
 "cells": [
  {
   "attachments": {},
   "cell_type": "markdown",
   "metadata": {},
   "source": [
    "# Binary Search\n",
    "\n",
    "- 左右指針二分查找"
   ]
  },
  {
   "cell_type": "code",
   "execution_count": 73,
   "metadata": {},
   "outputs": [],
   "source": [
    "from typing import List\n",
    "from typing import Optional\n",
    "from collections import defaultdict"
   ]
  },
  {
   "attachments": {},
   "cell_type": "markdown",
   "metadata": {},
   "source": [
    "# 2023/5/14"
   ]
  },
  {
   "attachments": {},
   "cell_type": "markdown",
   "metadata": {},
   "source": [
    "(1) Search in Rotated Sorted Array"
   ]
  },
  {
   "cell_type": "code",
   "execution_count": 6,
   "metadata": {},
   "outputs": [],
   "source": [
    "class Solution:\n",
    "    def search(self, nums: List[int], target: int) -> int:\n",
    "\n",
    "        left = 0\n",
    "        right = len(nums)-1\n",
    "\n",
    "        while left<=right:\n",
    "            mid = (left+right)//2\n",
    "            if nums[mid] == target:\n",
    "                return mid\n",
    "            elif nums[left] <= nums[mid]:\n",
    "                if nums[left] <= target and target < nums[mid]:\n",
    "                    right = mid-1\n",
    "                else :\n",
    "                    left = mid+1\n",
    "            else:\n",
    "                if nums[mid] < target and target <= nums[right]:\n",
    "                    left = mid+1\n",
    "                else:\n",
    "                    right = mid-1\n",
    "\n",
    "        return -1"
   ]
  },
  {
   "attachments": {},
   "cell_type": "markdown",
   "metadata": {},
   "source": [
    "(2) 981. Time Based Key-Value Store"
   ]
  },
  {
   "cell_type": "code",
   "execution_count": null,
   "metadata": {},
   "outputs": [],
   "source": [
    "class TimeMap:\n",
    "    '''\n",
    "    不確定是不是因為用字典導致超時\n",
    "    '''\n",
    "    def __init__(self):\n",
    "        self.time_map={}\n",
    "        \n",
    "    def set(self, key: str, value: str, timestamp: int) -> None:\n",
    "        if key in self.time_map:\n",
    "            self.time_map[key].update({timestamp:value})\n",
    "        else:\n",
    "            self.time_map.update({key:{timestamp:value}})\n",
    "        \n",
    "    def get(self, key: str, timestamp: int) -> str:\n",
    "        \n",
    "        if key not in self.time_map:\n",
    "            return \"\"\n",
    "\n",
    "        values = list(self.time_map[key].keys())\n",
    "\n",
    "        if timestamp < values[0]:\n",
    "            return \"\"\n",
    "\n",
    "        left = 0\n",
    "        right = len(values)-1\n",
    "\n",
    "        while left <= right:\n",
    "\n",
    "            mid = (left+right)//2\n",
    "\n",
    "            if values[mid] == timestamp:\n",
    "                return self.time_map[key][values[mid]]\n",
    "            elif values[mid] > timestamp:\n",
    "                right = mid - 1\n",
    "            else :\n",
    "                left = mid + 1\n",
    "\n",
    "\n",
    "        return self.time_map[key][values[right]]"
   ]
  },
  {
   "cell_type": "code",
   "execution_count": null,
   "metadata": {},
   "outputs": [],
   "source": [
    "class TimeMap:\n",
    "    def __init__(self):\n",
    "        \"\"\"\n",
    "        Initialize your data structure here.\n",
    "        \"\"\"\n",
    "        self.time_map = defaultdict(list)\n",
    "\n",
    "    def set(self, key: str, value: str, timestamp: int) -> None:\n",
    "        self.time_map[key].append((timestamp, value))\n",
    "\n",
    "    def get(self, key: str, timestamp: int) -> str:\n",
    "        values = self.time_map.get(key, [])\n",
    "        left, right = 0, len(values) - 1\n",
    "        while left <= right:\n",
    "            mid = (left + right) // 2\n",
    "            if values[mid][0] <= timestamp:\n",
    "                left = mid + 1\n",
    "            else:\n",
    "                right = mid - 1\n",
    "        return \"\" if right < 0 else values[right][1]"
   ]
  }
 ],
 "metadata": {
  "kernelspec": {
   "display_name": "leetcode",
   "language": "python",
   "name": "python3"
  },
  "language_info": {
   "codemirror_mode": {
    "name": "ipython",
    "version": 3
   },
   "file_extension": ".py",
   "mimetype": "text/x-python",
   "name": "python",
   "nbconvert_exporter": "python",
   "pygments_lexer": "ipython3",
   "version": "3.10.10"
  },
  "orig_nbformat": 4
 },
 "nbformat": 4,
 "nbformat_minor": 2
}
