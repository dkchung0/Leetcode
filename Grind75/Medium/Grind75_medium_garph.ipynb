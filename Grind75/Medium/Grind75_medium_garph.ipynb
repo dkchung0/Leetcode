{
 "cells": [
  {
   "attachments": {},
   "cell_type": "markdown",
   "metadata": {},
   "source": [
    "# Graph\n",
    "\n",
    "- 矩陣圖4個方向要考慮邊界\n",
    "- dfs or bfs 遍歷過記得標記visited\n",
    "- 有向圖先考慮入度\n",
    "- 無向圖入等就是出度"
   ]
  },
  {
   "cell_type": "code",
   "execution_count": 243,
   "metadata": {},
   "outputs": [],
   "source": [
    "from collections import deque\n",
    "from collections import defaultdict\n",
    "from typing import List"
   ]
  },
  {
   "attachments": {},
   "cell_type": "markdown",
   "metadata": {},
   "source": [
    "# 2023/5/23"
   ]
  },
  {
   "attachments": {},
   "cell_type": "markdown",
   "metadata": {},
   "source": [
    "(1) 542. 01 Matrix"
   ]
  },
  {
   "cell_type": "code",
   "execution_count": 233,
   "metadata": {},
   "outputs": [],
   "source": [
    "class Solution:\n",
    "    '''\n",
    "    Surround 1 with 0, if you use 1 to find 0, the time complexity will be O((m*n)^2)\n",
    "    '''    \n",
    "    def updateMatrix(self, matrix: List[List[int]]) -> List[List[int]]:\n",
    "            \n",
    "            row = len(matrix)\n",
    "            col = len(matrix[0])\n",
    "            \n",
    "            queue = deque()\n",
    "            \n",
    "            for x in range(row):\n",
    "                for y in range(col):\n",
    "                    if matrix[x][y] == 0:\n",
    "                        queue.append((x,y))\n",
    "                    else:\n",
    "                        matrix[x][y] = float(\"inf\")\n",
    "                        \n",
    "            while queue:\n",
    "                x,y = queue.popleft()\n",
    "                for dx, dy in [(-1, 0),(0, -1),(1,0),(0,1)] :\n",
    "                    new_x, new_y = x+dx, y+dy\n",
    "                    if 0 <= new_x < row and 0 <= new_y < col and matrix[new_x][new_y] > matrix[x][y]+1:\n",
    "                        queue.append((new_x,new_y))\n",
    "                        matrix[new_x][new_y] = matrix[x][y]+1\n",
    "            return matrix"
   ]
  },
  {
   "attachments": {},
   "cell_type": "markdown",
   "metadata": {},
   "source": [
    "# 2023/5/24"
   ]
  },
  {
   "attachments": {},
   "cell_type": "markdown",
   "metadata": {},
   "source": [
    "(2) 133. Clone Graph"
   ]
  },
  {
   "cell_type": "code",
   "execution_count": 234,
   "metadata": {},
   "outputs": [],
   "source": [
    "\n",
    "class Node:\n",
    "    def __init__(self, val = 0, neighbors = None):\n",
    "        self.val = val\n",
    "        self.neighbors = neighbors if neighbors is not None else []\n",
    "\n",
    "class Solution:\n",
    "    def cloneGraph(self, node: 'Node') -> 'Node':\n",
    "\n",
    "        if not node :\n",
    "            return None\n",
    "\n",
    "        # Confirm whether the new node has been created key(old) : value(new)\n",
    "        visited = {}\n",
    "\n",
    "        def dfs(node):\n",
    "            \n",
    "            # If the node is already in the created list, directly return the cloned node   \n",
    "            if node in visited:\n",
    "                return visited[node]\n",
    "\n",
    "            clone = Node(node.val)\n",
    "            visited[node] = clone\n",
    "\n",
    "            for neighbor in node.neighbors:\n",
    "                clone.neighbors.append(dfs(neighbor))\n",
    "\n",
    "            return clone\n",
    "\n",
    "        return dfs(node)"
   ]
  },
  {
   "attachments": {},
   "cell_type": "markdown",
   "metadata": {},
   "source": [
    "(3) 207. Course Schedule\n"
   ]
  },
  {
   "cell_type": "code",
   "execution_count": 235,
   "metadata": {},
   "outputs": [],
   "source": [
    "class Solution:\n",
    "    '''\n",
    "    Ordered graphs take into account indegree and outdegree\n",
    "    '''\n",
    "    def canFinish(self, numCourses: int, prerequisites: List[List[int]]) -> bool:\n",
    "        # Complete the walkable set of prerequisite courses (the concept of BFS)\n",
    "        edge = {i:[] for i in range(numCourses)}\n",
    "        # Number of prerequisite courses required\n",
    "        indegress = [0 for i in range(numCourses)]\n",
    "        \n",
    "        for i , j in prerequisites:\n",
    "            edge[j].append(i)\n",
    "            indegress[i] += 1\n",
    "            \n",
    "        queue , count = deque() , 0\n",
    "        \n",
    "        for index , i in enumerate(indegress):\n",
    "            if i==0:\n",
    "                queue.append(index)\n",
    "        \n",
    "        while queue:\n",
    "            node = queue.popleft()\n",
    "            count +=1\n",
    "            \n",
    "            for x in edge[node]:\n",
    "                indegress[x] -=1\n",
    "                \n",
    "                if indegress[x]==0:\n",
    "                    queue.append(x)\n",
    "                    \n",
    "        return count == numCourses"
   ]
  },
  {
   "attachments": {},
   "cell_type": "markdown",
   "metadata": {},
   "source": [
    "# 2023/5/26"
   ]
  },
  {
   "attachments": {},
   "cell_type": "markdown",
   "metadata": {},
   "source": [
    "(4) 200. Number of Islands"
   ]
  },
  {
   "cell_type": "code",
   "execution_count": 236,
   "metadata": {},
   "outputs": [],
   "source": [
    "class Solution:\n",
    "    def numIslands(self, grid: List[List[str]]) -> int:\n",
    "\n",
    "        if not grid:\n",
    "            return 0\n",
    "\n",
    "        row = len(grid)\n",
    "        col = len(grid[0])\n",
    "        count = 0\n",
    "\n",
    "        def dfs(x,y):\n",
    "            if x<0 or x>=row or y<0 or y>= col or grid[x][y]==\"0\":\n",
    "                return None\n",
    "            # Mark all the visited land as 0, which means it has been traversed\n",
    "            grid[x][y] = \"0\"\n",
    "\n",
    "            for dx, dy in [(-1, 0),(0, -1),(1,0),(0,1)]:\n",
    "                dfs(x+dx, y+dy)\n",
    "\n",
    "        for x in range(row):\n",
    "            for y in range(col):\n",
    "                if grid[x][y] == \"1\":\n",
    "                    count+=1\n",
    "                    dfs(x,y)\n",
    "                    \n",
    "        return count"
   ]
  },
  {
   "attachments": {},
   "cell_type": "markdown",
   "metadata": {},
   "source": [
    "(5) 994. Rotting Oranges"
   ]
  },
  {
   "cell_type": "code",
   "execution_count": null,
   "metadata": {},
   "outputs": [],
   "source": [
    "class Solution:\n",
    "    def orangesRotting(self, grid: List[List[int]]) -> int:\n",
    "\n",
    "        rows = len(grid)\n",
    "        cols = len(grid[0])\n",
    "\n",
    "        queue = deque()\n",
    "        minutes = 0\n",
    "        fresh_o = 0\n",
    "        four_direction = [(-1, 0),(0, -1),(1,0),(0,1)]\n",
    "\n",
    "        for x in range(rows):\n",
    "            for y in range(cols):\n",
    "                if grid[x][y]==2:\n",
    "                    queue.append((x,y))\n",
    "                elif grid[x][y]==1:\n",
    "                    fresh_o+=1\n",
    "        \n",
    "        if fresh_o == 0:\n",
    "            return 0\n",
    "\n",
    "        while queue:\n",
    "            # To account for the same minute rot\n",
    "            for i in range(len(queue)):\n",
    "                r,c = queue.popleft()\n",
    "                for dr, dc in four_direction:\n",
    "                    nr = r + dr\n",
    "                    nc = c + dc\n",
    "\n",
    "                    if nr < 0 or nc < 0 or nr >= rows or nc >= cols or grid[nr][nc] != 1:\n",
    "                        continue\n",
    "                    \n",
    "                    # Mark fresh oranges as rotten, which means they have been traversed\n",
    "                    grid[nr][nc] = 2\n",
    "                    fresh_o -= 1\n",
    "                    queue.append((nr, nc))\n",
    "            \n",
    "            minutes+=1\n",
    "        \n",
    "        # Judging by the remaining orange trees being greater than 0, whether there are unrotted oranges\n",
    "        if fresh_o > 0:\n",
    "            return -1\n",
    "\n",
    "        return minutes - 1"
   ]
  },
  {
   "attachments": {},
   "cell_type": "markdown",
   "metadata": {},
   "source": [
    "# 2023/5/29"
   ]
  },
  {
   "attachments": {},
   "cell_type": "markdown",
   "metadata": {},
   "source": [
    "(6) 721. Accounts Merge"
   ]
  },
  {
   "cell_type": "code",
   "execution_count": 282,
   "metadata": {},
   "outputs": [],
   "source": [
    "class Solution:\n",
    "    '''\n",
    "    I think this question is very difficult. \n",
    "    Others use the union algorithm, but I can only do it with the idea of ​​dfs.\n",
    "    '''\n",
    "    def accountsMerge(self, accounts: List[List[str]]) -> List[List[str]]:\n",
    "        \n",
    "        visited_account=set()\n",
    "        result = []\n",
    "        email_account_map  = defaultdict(list) \n",
    "        \n",
    "        # create hash_map  {key=email : value=account} \n",
    "        for account_index , account_email in enumerate(accounts):\n",
    "            # index 0 is name\n",
    "            for i in range(1,len(account_email)):\n",
    "                 email_account_map[account_email[i]].append(account_index)\n",
    "        \n",
    "        # dfs         \n",
    "        def find_emails(account_index,account_emails):\n",
    "            if account_index in visited_account:\n",
    "                return \n",
    "            visited_account.add(account_index)\n",
    "            \n",
    "            for i in range(1,len(accounts[account_index])):\n",
    "                email = accounts[account_index][i]\n",
    "                account_emails.add(accounts[account_index][i])\n",
    "                for account in email_account_map[email]:\n",
    "                    find_emails(account,account_emails)\n",
    "        \n",
    "        # start run in index 0        \n",
    "        for account_index , account_email in enumerate(accounts):\n",
    "            if account_index in visited_account:\n",
    "                 continue\n",
    "            name = account_email[0]\n",
    "            emails = set()\n",
    "            find_emails(account_index,emails)\n",
    "            result.append([name]+sorted(emails))\n",
    "        \n",
    "        return result"
   ]
  },
  {
   "attachments": {},
   "cell_type": "markdown",
   "metadata": {},
   "source": [
    "# 2023/5/30"
   ]
  },
  {
   "attachments": {},
   "cell_type": "markdown",
   "metadata": {},
   "source": [
    "(7) 79. Word Search"
   ]
  },
  {
   "cell_type": "code",
   "execution_count": 541,
   "metadata": {},
   "outputs": [],
   "source": [
    "class Solution:\n",
    "    def exist(self, board: List[List[str]], word: str) -> bool:\n",
    "        \n",
    "        rows = len(board)\n",
    "        cols = len(board[0])\n",
    "        \n",
    "        def dfs(x,y,word,visited):\n",
    "            \n",
    "            if len(word)==0:\n",
    "                return True\n",
    "\n",
    "            visited.add((x,y))\n",
    "            \n",
    "            for dx, dy in [(-1, 0),(0, -1),(1,0),(0,1)]:\n",
    "                if rows>x+dx>=0 and cols>y+dy>=0 and (x+dx,y+dy) not in visited and board[x+dx][y+dy]==word[0]:\n",
    "                    # Assuming that the word has been traversed successfully, it will return True\n",
    "                    if dfs(x+dx, y+dy,word[1:],visited):\n",
    "                        return True\n",
    "                    \n",
    "            #Failed after deep traversal of the same endpoint, visited needs to be updated back to the state of the original endpoint\n",
    "            visited.remove((x, y))\n",
    "            \n",
    "            return False\n",
    "        \n",
    "        for i in range(rows):\n",
    "            for j in range(cols):\n",
    "                if board[i][j]==word[0]:\n",
    "                    visited = set()\n",
    "                    if dfs(i,j,word[1:],visited):\n",
    "                        return True\n",
    "                    \n",
    "        return  False\n",
    "        "
   ]
  },
  {
   "attachments": {},
   "cell_type": "markdown",
   "metadata": {},
   "source": [
    "# 2023/5/31"
   ]
  },
  {
   "attachments": {},
   "cell_type": "markdown",
   "metadata": {},
   "source": [
    "(8) 310. Minimum Height Trees"
   ]
  },
  {
   "cell_type": "code",
   "execution_count": null,
   "metadata": {},
   "outputs": [],
   "source": [
    "class Solution:\n",
    "    '''\n",
    "    Use bfs to calculate the height of each node as the root tree.\n",
    "    Although it can be solved but timed out.\n",
    "    '''\n",
    "    def findMinHeightTrees(self, n: int, edges: List[List[int]]) -> List[int]:\n",
    "\n",
    "        if n == 1:\n",
    "            return [0]\n",
    "        \n",
    "        edge = {i:[] for i in range(n)}\n",
    "        count_list = defaultdict(list)\n",
    "        \n",
    "        for i,j in edges:\n",
    "            edge[j].append(i)\n",
    "            edge[i].append(j)\n",
    "\n",
    "        for index in range(n):\n",
    "            visited = set()\n",
    "            queue = deque()\n",
    "            count = 0\n",
    "            \n",
    "            queue.append(index)\n",
    "            while queue:\n",
    "                for i in range(len(queue)):\n",
    "                    root = queue.popleft()\n",
    "                    visited.add(root)\n",
    "                \n",
    "                    for node in edge[root]:\n",
    "                        if node not in visited:\n",
    "                            visited.add(node)\n",
    "                            queue.append(node)\n",
    "                \n",
    "                count+=1\n",
    "            \n",
    "            count_list[count].append(index)\n",
    "            \n",
    "        \n",
    "        return count_list[min(count_list)]"
   ]
  },
  {
   "cell_type": "code",
   "execution_count": 623,
   "metadata": {},
   "outputs": [],
   "source": [
    "class Solution:\n",
    "    '''\n",
    "    In fact, the problem is to find the point closest to the middle of the whole graph.\n",
    "    '''\n",
    "    def findMinHeightTrees(self, n: int, edges: List[List[int]]) -> List[int]:\n",
    "        \n",
    "        if n==1:\n",
    "            return [0]\n",
    "        \n",
    "        edge = {i:[] for i in range(n)}\n",
    "        degress = [0 for i in range(n)]\n",
    "        \n",
    "        for i,j in edges:\n",
    "            edge[j].append(i)\n",
    "            edge[i].append(j)\n",
    "            degress[i]+=1\n",
    "            degress[j]+=1\n",
    "\n",
    "\n",
    "        queue = deque() \n",
    "        for index in range(n):\n",
    "            if degress[index]==1:\n",
    "                queue.append(index)\n",
    "                \n",
    "        remaining_nodes = n\n",
    "        # Because the graph in the title has the characteristics of a tree without loops, so there are at most 2 elements\n",
    "        while remaining_nodes > 2:\n",
    "            nodes_num = len(queue)\n",
    "            remaining_nodes-=nodes_num \n",
    "            \n",
    "            for i in range(nodes_num):\n",
    "                root = queue.popleft()\n",
    "                for node in edge[root]:\n",
    "                    degress[node]-=1\n",
    "                    if degress[node]==1:\n",
    "                        queue.append(node)\n",
    "                        \n",
    "        return list(queue)\n",
    "        "
   ]
  }
 ],
 "metadata": {
  "kernelspec": {
   "display_name": "Python 3",
   "language": "python",
   "name": "python3"
  },
  "language_info": {
   "codemirror_mode": {
    "name": "ipython",
    "version": 3
   },
   "file_extension": ".py",
   "mimetype": "text/x-python",
   "name": "python",
   "nbconvert_exporter": "python",
   "pygments_lexer": "ipython3",
   "version": "3.11.3"
  },
  "orig_nbformat": 4
 },
 "nbformat": 4,
 "nbformat_minor": 2
}
