{
 "cells": [
  {
   "cell_type": "code",
   "execution_count": 1,
   "metadata": {},
   "outputs": [],
   "source": [
    "from typing import Optional,List"
   ]
  },
  {
   "cell_type": "markdown",
   "metadata": {},
   "source": [
    "# 918. Maximum Sum Circular Subarray\n",
    "最大為循環的算法是用total去減非循環最小"
   ]
  },
  {
   "cell_type": "code",
   "execution_count": 7,
   "metadata": {},
   "outputs": [],
   "source": [
    "class Solution:\n",
    "    def maxSubarraySumCircular(self, nums: List[int]) -> int:\n",
    "\n",
    "        current_max = max_non_circular = current_min = min_non_circular = total_sum = nums[0] \n",
    "        for num in nums[1:]:\n",
    "            current_max = max(num,current_max+num)\n",
    "            max_non_circular = max(max_non_circular,current_max)\n",
    "            total_sum += num\n",
    "            current_min = min(num,current_min+num)\n",
    "            min_non_circular = min(min_non_circular,current_min)\n",
    "\n",
    "        # 循環子陣列的最大和\n",
    "        max_on_circular = total_sum-min_non_circular\n",
    "\n",
    "        # 假設整個陣列都是負數,代表最佳解出現在非循環的max\n",
    "        if total_sum == min_non_circular:\n",
    "            return max_non_circular\n",
    "        else:\n",
    "            return max(max_non_circular, max_on_circular)"
   ]
  },
  {
   "cell_type": "code",
   "execution_count": null,
   "metadata": {},
   "outputs": [],
   "source": []
  }
 ],
 "metadata": {
  "kernelspec": {
   "display_name": "nlp_310",
   "language": "python",
   "name": "python3"
  },
  "language_info": {
   "codemirror_mode": {
    "name": "ipython",
    "version": 3
   },
   "file_extension": ".py",
   "mimetype": "text/x-python",
   "name": "python",
   "nbconvert_exporter": "python",
   "pygments_lexer": "ipython3",
   "version": "3.10.13"
  }
 },
 "nbformat": 4,
 "nbformat_minor": 2
}
