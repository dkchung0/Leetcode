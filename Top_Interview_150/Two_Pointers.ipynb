{
 "cells": [
  {
   "cell_type": "code",
   "execution_count": 1,
   "metadata": {},
   "outputs": [],
   "source": [
    "from typing import List"
   ]
  },
  {
   "cell_type": "markdown",
   "metadata": {},
   "source": [
    "# 392. Is Subsequence"
   ]
  },
  {
   "cell_type": "code",
   "execution_count": 2,
   "metadata": {},
   "outputs": [],
   "source": [
    "s = \"abc\"\n",
    "t = \"ahbgdc\""
   ]
  },
  {
   "cell_type": "code",
   "execution_count": 3,
   "metadata": {},
   "outputs": [],
   "source": [
    "class Solution:\n",
    "    def isSubsequence(self, s: str, t: str) -> bool:\n",
    "        if len(s)==0:\n",
    "            return True\n",
    "        p1=len(s)-1\n",
    "        p2=len(t)-1\n",
    "        while p2>=0:\n",
    "            if s[p1] == t[p2]:\n",
    "                p1-=1\n",
    "                p2-=1\n",
    "            else:\n",
    "                p2-=1\n",
    "\n",
    "        return p1 <= -1"
   ]
  },
  {
   "cell_type": "code",
   "execution_count": 4,
   "metadata": {},
   "outputs": [
    {
     "data": {
      "text/plain": [
       "True"
      ]
     },
     "execution_count": 4,
     "metadata": {},
     "output_type": "execute_result"
    }
   ],
   "source": [
    "Solution().isSubsequence(s,t)"
   ]
  },
  {
   "cell_type": "markdown",
   "metadata": {},
   "source": [
    "# 167. Two Sum II - Input Array Is Sorted"
   ]
  },
  {
   "cell_type": "code",
   "execution_count": 47,
   "metadata": {},
   "outputs": [],
   "source": [
    "numbers = [12,13,23,28,43,44,59,60,61,68,70,86,88,92,124,125,136,168,173,173,180,199,212,221,227,230,277,282,306,314,316,321,325,328,336,337,363,365,368,370,370,371,375,384,387,394,400,404,414,422,422,427,430,435,457,493,506,527,531,538,541,546,568,583,585,587,650,652,677,691,730,737,740,751,755,764,778,783,785,789,794,803,809,815,847,858,863,863,874,887,896,916,920,926,927,930,933,957,981,997]\n",
    "target = 542"
   ]
  },
  {
   "cell_type": "code",
   "execution_count": 48,
   "metadata": {},
   "outputs": [],
   "source": [
    "# hash table\n",
    "class Solution:\n",
    "    def twoSum(self, numbers: List[int], target: int) -> List[int]:\n",
    "        \n",
    "        temp={}\n",
    "        for index,i in enumerate(numbers):\n",
    "            if i in temp:\n",
    "                return [temp[i],index+1]\n",
    "            temp[target - i] = index+1"
   ]
  },
  {
   "cell_type": "code",
   "execution_count": 50,
   "metadata": {},
   "outputs": [],
   "source": [
    "# two points\n",
    "class Solution:\n",
    "    def twoSum(self, numbers: List[int], target: int) -> List[int]:\n",
    "        l=0\n",
    "        r=len(numbers)-1\n",
    "        while l<r:\n",
    "            if numbers[l]+numbers[r] > target:\n",
    "                r-=1\n",
    "            elif numbers[l]+numbers[r] < target:\n",
    "                l+=1\n",
    "            else:\n",
    "                return[l+1,r+1]"
   ]
  },
  {
   "cell_type": "code",
   "execution_count": 51,
   "metadata": {},
   "outputs": [
    {
     "data": {
      "text/plain": [
       "[24, 32]"
      ]
     },
     "execution_count": 51,
     "metadata": {},
     "output_type": "execute_result"
    }
   ],
   "source": [
    "Solution().twoSum(numbers,target)"
   ]
  }
 ],
 "metadata": {
  "kernelspec": {
   "display_name": "nlp_310",
   "language": "python",
   "name": "python3"
  },
  "language_info": {
   "codemirror_mode": {
    "name": "ipython",
    "version": 3
   },
   "file_extension": ".py",
   "mimetype": "text/x-python",
   "name": "python",
   "nbconvert_exporter": "python",
   "pygments_lexer": "ipython3",
   "version": "3.10.13"
  }
 },
 "nbformat": 4,
 "nbformat_minor": 2
}
