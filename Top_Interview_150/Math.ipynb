{
 "cells": [
  {
   "cell_type": "code",
   "execution_count": 9,
   "metadata": {},
   "outputs": [],
   "source": [
    "from typing import Optional,List\n",
    "from collections import defaultdict"
   ]
  },
  {
   "cell_type": "markdown",
   "metadata": {},
   "source": [
    "# 66. Plus One"
   ]
  },
  {
   "cell_type": "code",
   "execution_count": 10,
   "metadata": {},
   "outputs": [],
   "source": [
    "class Solution:\n",
    "    def plusOne(self, digits: List[int]) -> List[int]:\n",
    "\n",
    "        return [int(i) for i in str(int(\"\".join(map(str,digits)))+1)]"
   ]
  },
  {
   "cell_type": "markdown",
   "metadata": {},
   "source": [
    "# 172. Factorial Trailing Zeroes"
   ]
  },
  {
   "cell_type": "code",
   "execution_count": 85,
   "metadata": {},
   "outputs": [],
   "source": [
    "class Solution:\n",
    "    def trailingZeroes(self, n: int) -> int:\n",
    "\n",
    "        if n==0:\n",
    "            return 0\n",
    "        \n",
    "        def factorial(n):\n",
    "            if n==1:\n",
    "                return 1\n",
    "            return n*factorial(n-1)\n",
    "\n",
    "        ans = factorial(n)\n",
    "        output=0\n",
    "        while ans>10:\n",
    "            if ans%10!=0:\n",
    "                break\n",
    "            output+=1\n",
    "            ans //= 10\n",
    "\n",
    "        return output\n",
    "    \n",
    "# Runtime is too long"
   ]
  },
  {
   "cell_type": "code",
   "execution_count": 86,
   "metadata": {},
   "outputs": [],
   "source": [
    "class Solution:\n",
    "    def trailingZeroes(self, n: int) -> int:\n",
    "\n",
    "       return sum(n//5**i for i in range(1,5))\n",
    "\n",
    "# Best solution"
   ]
  },
  {
   "cell_type": "code",
   "execution_count": 87,
   "metadata": {},
   "outputs": [
    {
     "data": {
      "text/plain": [
       "31"
      ]
     },
     "execution_count": 87,
     "metadata": {},
     "output_type": "execute_result"
    }
   ],
   "source": [
    "Solution().trailingZeroes(125)"
   ]
  },
  {
   "cell_type": "markdown",
   "metadata": {},
   "source": [
    "# 69. Sqrt(x)\n",
    "Binary search method is more efficient"
   ]
  },
  {
   "cell_type": "code",
   "execution_count": 90,
   "metadata": {},
   "outputs": [],
   "source": [
    "class Solution:\n",
    "    def mySqrt(self, x: int) -> int:\n",
    "\n",
    "        if x==0:\n",
    "            return 0\n",
    "        \n",
    "        i = 1\n",
    "        while True:\n",
    "            if x/i < i:\n",
    "                break\n",
    "            i+=1\n",
    "            \n",
    "        return i-1\n",
    "    \n",
    "# Runtime is too long"
   ]
  },
  {
   "cell_type": "code",
   "execution_count": 100,
   "metadata": {},
   "outputs": [],
   "source": [
    "class Solution:\n",
    "    def mySqrt(self, x: int) -> int:\n",
    "        \n",
    "        if x<=1:\n",
    "            return x\n",
    "        \n",
    "        i=2\n",
    "        while True:\n",
    "           if i**2>x:\n",
    "               break\n",
    "           i+=1\n",
    "           \n",
    "        return i-1\n",
    "    \n",
    "    # Runtime is too long"
   ]
  },
  {
   "cell_type": "code",
   "execution_count": 101,
   "metadata": {},
   "outputs": [],
   "source": [
    "class Solution:\n",
    "    def mySqrt(self, x: int) -> int:\n",
    "        if x < 2:\n",
    "            return x\n",
    "        \n",
    "        left, right = 2, x // 2\n",
    "        \n",
    "        while left <= right:\n",
    "            mid = (left + right) // 2\n",
    "            num = mid * mid\n",
    "            if num == x:\n",
    "                return mid66\n",
    "            elif num < x:\n",
    "                left = mid + 1\n",
    "            else:\n",
    "                right = mid - 1\n",
    "        \n",
    "        return right"
   ]
  },
  {
   "cell_type": "markdown",
   "metadata": {},
   "source": [
    "# 50. Pow(x, n)"
   ]
  },
  {
   "cell_type": "code",
   "execution_count": 102,
   "metadata": {},
   "outputs": [],
   "source": [
    "class Solution:\n",
    "    def myPow(self, x: float, n: int) -> float:\n",
    "        \n",
    "        reverse=False\n",
    "        \n",
    "        if n<0:\n",
    "            reverse=True\n",
    "        n = abs(n)\n",
    "        \n",
    "        ans = 1\n",
    "        while n>0:\n",
    "            # 二分冪算法\n",
    "            if n % 2 == 1:\n",
    "                ans *= x\n",
    "                \n",
    "            x *= x\n",
    "            n //= 2\n",
    "            \n",
    "        return ans if not reverse else 1/ans "
   ]
  },
  {
   "cell_type": "code",
   "execution_count": 106,
   "metadata": {},
   "outputs": [
    {
     "data": {
      "text/plain": [
       "0.125"
      ]
     },
     "execution_count": 106,
     "metadata": {},
     "output_type": "execute_result"
    }
   ],
   "source": [
    "Solution().myPow(2,-3)"
   ]
  }
 ],
 "metadata": {
  "kernelspec": {
   "display_name": "nlp_310",
   "language": "python",
   "name": "python3"
  },
  "language_info": {
   "codemirror_mode": {
    "name": "ipython",
    "version": 3
   },
   "file_extension": ".py",
   "mimetype": "text/x-python",
   "name": "python",
   "nbconvert_exporter": "python",
   "pygments_lexer": "ipython3",
   "version": "3.10.13"
  }
 },
 "nbformat": 4,
 "nbformat_minor": 2
}
