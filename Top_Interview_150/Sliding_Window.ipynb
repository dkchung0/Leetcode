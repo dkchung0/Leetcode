{
 "cells": [
  {
   "cell_type": "code",
   "execution_count": 4,
   "metadata": {},
   "outputs": [],
   "source": [
    "from typing import List"
   ]
  },
  {
   "cell_type": "markdown",
   "metadata": {},
   "source": [
    "# 209. Minimum Size Subarray Sum\n",
    "滑動尋找"
   ]
  },
  {
   "cell_type": "code",
   "execution_count": 10,
   "metadata": {},
   "outputs": [],
   "source": [
    "target = 4\n",
    "nums = [1,4,4]"
   ]
  },
  {
   "cell_type": "code",
   "execution_count": 13,
   "metadata": {},
   "outputs": [],
   "source": [
    "target = 11\n",
    "nums = [1,1,1,1,1,1,1,1]"
   ]
  },
  {
   "cell_type": "code",
   "execution_count": 14,
   "metadata": {},
   "outputs": [],
   "source": [
    "# Time Limit Exceeded\n",
    "class Solution:\n",
    "    def minSubArrayLen(self, target: int, nums: List[int]) -> int:\n",
    "\n",
    "        if sum(nums)<target:\n",
    "            return 0\n",
    "\n",
    "        ans_len = float(\"inf\")        \n",
    "        for i in range(len(nums)):\n",
    "            temp_sum = 0\n",
    "            left_point = 0\n",
    "        \n",
    "            while temp_sum<target:\n",
    "                temp_sum+=nums[i+left_point]\n",
    "                left_point+=1\n",
    "                \n",
    "                if i+left_point == len(nums):\n",
    "                    break\n",
    "                \n",
    "            if left_point < ans_len and temp_sum>=target:\n",
    "                ans_len = left_point\n",
    "                \n",
    "        return ans_len"
   ]
  },
  {
   "cell_type": "code",
   "execution_count": 15,
   "metadata": {},
   "outputs": [],
   "source": [
    "class Solution:\n",
    "    def minSubArrayLen(self, target: int, nums: List[int]) -> int:\n",
    "        \n",
    "        if sum(nums)<target:\n",
    "            return 0\n",
    "        \n",
    "        n = len(nums)\n",
    "        left = 0\n",
    "        sum_ = 0\n",
    "        min_len = float('inf')\n",
    "        \n",
    "        for right in range(n):\n",
    "            sum_ += nums[right]\n",
    "            \n",
    "            while sum_>=target:\n",
    "                current_len = right-left+1\n",
    "                if current_len<min_len:\n",
    "                    min_len = current_len\n",
    "                \n",
    "                sum_-= nums[left] \n",
    "                left+=1\n",
    "        return min_len\n",
    "                "
   ]
  },
  {
   "cell_type": "code",
   "execution_count": 16,
   "metadata": {},
   "outputs": [
    {
     "data": {
      "text/plain": [
       "0"
      ]
     },
     "execution_count": 16,
     "metadata": {},
     "output_type": "execute_result"
    }
   ],
   "source": [
    "Solution().minSubArrayLen(target,nums)"
   ]
  },
  {
   "cell_type": "code",
   "execution_count": null,
   "metadata": {},
   "outputs": [],
   "source": []
  }
 ],
 "metadata": {
  "kernelspec": {
   "display_name": "Python 3 (ipykernel)",
   "language": "python",
   "name": "python3"
  },
  "language_info": {
   "codemirror_mode": {
    "name": "ipython",
    "version": 3
   },
   "file_extension": ".py",
   "mimetype": "text/x-python",
   "name": "python",
   "nbconvert_exporter": "python",
   "pygments_lexer": "ipython3",
   "version": "3.10.13"
  }
 },
 "nbformat": 4,
 "nbformat_minor": 2
}
