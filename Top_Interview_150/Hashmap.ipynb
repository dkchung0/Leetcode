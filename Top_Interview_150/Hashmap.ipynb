{
 "cells": [
  {
   "cell_type": "code",
   "execution_count": 4,
   "metadata": {},
   "outputs": [],
   "source": [
    "from typing import List"
   ]
  },
  {
   "cell_type": "markdown",
   "metadata": {},
   "source": [
    "# 205. Isomorphic Strings"
   ]
  },
  {
   "cell_type": "code",
   "execution_count": 29,
   "metadata": {},
   "outputs": [],
   "source": [
    "s = \"egg\"\n",
    "t = \"add\""
   ]
  },
  {
   "cell_type": "code",
   "execution_count": 30,
   "metadata": {},
   "outputs": [],
   "source": [
    "class Solution:\n",
    "    def isIsomorphic(self, s: str, t: str) -> bool:\n",
    "        \n",
    "        def count_hash(data):\n",
    "            hash={}\n",
    "            for index,_ in enumerate(data):\n",
    "                if _ in hash:\n",
    "                    hash[_].add(index)\n",
    "                else:\n",
    "                    hash[_]=set()\n",
    "                    hash[_].add(index)\n",
    "            \n",
    "            return list(hash.values())\n",
    "        \n",
    "            \n",
    "        return count_hash(s) == count_hash(t)"
   ]
  },
  {
   "cell_type": "code",
   "execution_count": 31,
   "metadata": {},
   "outputs": [
    {
     "data": {
      "text/plain": [
       "True"
      ]
     },
     "execution_count": 31,
     "metadata": {},
     "output_type": "execute_result"
    }
   ],
   "source": [
    "Solution().isIsomorphic(s,t)"
   ]
  },
  {
   "cell_type": "markdown",
   "metadata": {},
   "source": [
    "# 290. Word Pattern"
   ]
  },
  {
   "cell_type": "code",
   "execution_count": 41,
   "metadata": {},
   "outputs": [],
   "source": [
    "pattern = \"abba\"\n",
    "s = \"dog cat cat dog\""
   ]
  },
  {
   "cell_type": "code",
   "execution_count": 42,
   "metadata": {},
   "outputs": [],
   "source": [
    "class Solution:\n",
    "    def wordPattern(self, pattern: str, s: str) -> bool:\n",
    "        hash_dict={}\n",
    "        split_str = s.split()\n",
    "\n",
    "        if len(split_str)!= len(pattern):\n",
    "            return False\n",
    "\n",
    "        for i in range(len(pattern)):\n",
    "            if pattern[i] not in hash_dict:\n",
    "                hash_dict[pattern[i]] = split_str[i]\n",
    "            \n",
    "            if hash_dict[pattern[i]] != split_str[i]:\n",
    "                return False\n",
    "\n",
    "        return len(set(hash_dict.values())) == len(hash_dict.values())"
   ]
  },
  {
   "cell_type": "code",
   "execution_count": 43,
   "metadata": {},
   "outputs": [
    {
     "data": {
      "text/plain": [
       "True"
      ]
     },
     "execution_count": 43,
     "metadata": {},
     "output_type": "execute_result"
    }
   ],
   "source": [
    "Solution().wordPattern(pattern,s)"
   ]
  },
  {
   "cell_type": "markdown",
   "metadata": {},
   "source": [
    "# 242. Valid Anagram\n",
    "另外方法是用hashtable去做"
   ]
  },
  {
   "cell_type": "code",
   "execution_count": 53,
   "metadata": {},
   "outputs": [],
   "source": [
    "s = \"anagram\"\n",
    "t = \"nagaram\""
   ]
  },
  {
   "cell_type": "code",
   "execution_count": 54,
   "metadata": {},
   "outputs": [],
   "source": [
    "class Solution:\n",
    "    def isAnagram(self, s: str, t: str) -> bool:\n",
    "        if len(s) != len(t):\n",
    "            return False\n",
    "\n",
    "        return sorted(s) == sorted(t)"
   ]
  },
  {
   "cell_type": "code",
   "execution_count": 55,
   "metadata": {},
   "outputs": [
    {
     "data": {
      "text/plain": [
       "True"
      ]
     },
     "execution_count": 55,
     "metadata": {},
     "output_type": "execute_result"
    }
   ],
   "source": [
    "Solution().isAnagram(s,t)"
   ]
  },
  {
   "cell_type": "markdown",
   "metadata": {},
   "source": [
    "# 49. Group Anagrams"
   ]
  },
  {
   "cell_type": "code",
   "execution_count": 61,
   "metadata": {},
   "outputs": [],
   "source": [
    "strs = [\"eat\",\"tea\",\"tan\",\"ate\",\"nat\",\"bat\"]"
   ]
  },
  {
   "cell_type": "code",
   "execution_count": 62,
   "metadata": {},
   "outputs": [],
   "source": [
    "class Solution:\n",
    "    def groupAnagrams(self, strs: List[str]) -> List[List[str]]:\n",
    "        \n",
    "        hash_dict={}\n",
    "        for i in strs:\n",
    "            str_ = \"\".join(sorted(i))\n",
    "            if str_ not in hash_dict:\n",
    "                hash_dict[str_] = [i]\n",
    "            else:\n",
    "                hash_dict[str_].append(i)\n",
    "        \n",
    "        return list(hash_dict.values())"
   ]
  },
  {
   "cell_type": "code",
   "execution_count": 63,
   "metadata": {},
   "outputs": [
    {
     "data": {
      "text/plain": [
       "[['eat', 'tea', 'ate'], ['tan', 'nat'], ['bat']]"
      ]
     },
     "execution_count": 63,
     "metadata": {},
     "output_type": "execute_result"
    }
   ],
   "source": [
    "Solution().groupAnagrams(strs)"
   ]
  },
  {
   "cell_type": "markdown",
   "metadata": {},
   "source": [
    "# 202. Happy Number"
   ]
  },
  {
   "cell_type": "code",
   "execution_count": 2,
   "metadata": {},
   "outputs": [],
   "source": [
    "class Solution:\n",
    "    def isHappy(self, n: int) -> bool:\n",
    "        \n",
    "        #7 is the smallest value other than 1 that achieves the happy number\n",
    "        while n>=7:\n",
    "            str_ = str(n)\n",
    "            n = sum([int(i)**2 for i in str_])\n",
    "\n",
    "        return False if n!=1 else True"
   ]
  },
  {
   "cell_type": "markdown",
   "metadata": {},
   "source": [
    "# 219. Contains Duplicate II"
   ]
  },
  {
   "cell_type": "code",
   "execution_count": 5,
   "metadata": {},
   "outputs": [],
   "source": [
    "class Solution:\n",
    "    def containsNearbyDuplicate(self, nums: List[int], k: int) -> bool:\n",
    "        hash_dict={}\n",
    "        for index,i in enumerate(nums):\n",
    "            if i not in hash_dict:\n",
    "                hash_dict[i] = index\n",
    "            else:\n",
    "                if abs(index - hash_dict[i])<=k:\n",
    "                    return True\n",
    "                else:\n",
    "                    hash_dict[i] = index\n",
    "        \n",
    "        return False"
   ]
  },
  {
   "cell_type": "markdown",
   "metadata": {},
   "source": [
    "# 128. Longest Consecutive Sequence\n",
    "限制在O(n)，意味著禁止用sort"
   ]
  },
  {
   "cell_type": "code",
   "execution_count": 46,
   "metadata": {},
   "outputs": [],
   "source": [
    "nums = [100,4,200,1,3,2]"
   ]
  },
  {
   "cell_type": "code",
   "execution_count": 47,
   "metadata": {},
   "outputs": [],
   "source": [
    "class Solution:\n",
    "    def longestConsecutive(self, nums: List[int]) -> int:\n",
    "        hash_dict = set(nums)\n",
    "        max_len=0\n",
    "\n",
    "        for i in hash_dict:\n",
    "            # Ensure the starting point number\n",
    "            if i - 1 not in hash_dict:\n",
    "                temp_num = i\n",
    "                current_len = 1\n",
    "                \n",
    "                while temp_num+1 in hash_dict:\n",
    "                    temp_num+=1\n",
    "                    current_len +=1\n",
    "                    \n",
    "                max_len = max(max_len,current_len)\n",
    "                \n",
    "        return max_len"
   ]
  },
  {
   "cell_type": "code",
   "execution_count": 48,
   "metadata": {},
   "outputs": [
    {
     "data": {
      "text/plain": [
       "4"
      ]
     },
     "execution_count": 48,
     "metadata": {},
     "output_type": "execute_result"
    }
   ],
   "source": [
    "Solution().longestConsecutive(nums)"
   ]
  }
 ],
 "metadata": {
  "kernelspec": {
   "display_name": "nlp_310",
   "language": "python",
   "name": "python3"
  },
  "language_info": {
   "codemirror_mode": {
    "name": "ipython",
    "version": 3
   },
   "file_extension": ".py",
   "mimetype": "text/x-python",
   "name": "python",
   "nbconvert_exporter": "python",
   "pygments_lexer": "ipython3",
   "version": "3.10.13"
  }
 },
 "nbformat": 4,
 "nbformat_minor": 2
}
