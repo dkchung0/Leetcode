{
 "cells": [
  {
   "cell_type": "code",
   "execution_count": 3,
   "metadata": {},
   "outputs": [],
   "source": [
    "from typing import Optional,List\n",
    "from collections import defaultdict ,deque"
   ]
  },
  {
   "cell_type": "markdown",
   "metadata": {},
   "source": [
    "# 130. Surrounded Regions"
   ]
  },
  {
   "cell_type": "code",
   "execution_count": 51,
   "metadata": {},
   "outputs": [],
   "source": [
    "class Solution:\n",
    "    def solve(self, board: List[List[str]]) -> None:\n",
    "        \"\"\"\n",
    "        Do not return anything, modify board in-place instead.\n",
    "        \"\"\"\n",
    "        if not board:\n",
    "            return None\n",
    "        \n",
    "        rows, cols = len(board), len(board[0])\n",
    "        \n",
    "        def dfs(r, c):\n",
    "            # In addition to the boundary, the stopping condition of dfs is to record the visited\n",
    "            if r < 0 or r >= rows or c < 0 or c >= cols or board[r][c] != 'O':\n",
    "                return\n",
    "            board[r][c] = '#'\n",
    "            directions = [(1, 0), (-1, 0), (0, 1), (0, -1)]\n",
    "            for dr, dc in directions:\n",
    "                dfs(r + dr, c + dc)\n",
    "        \n",
    "        # Mark the 'O's on the border and their connected 'O's\n",
    "        for i in range(rows):\n",
    "            if board[i][0] == 'O':\n",
    "                dfs(i, 0)\n",
    "            if board[i][cols - 1] == 'O':\n",
    "                dfs(i, cols - 1)\n",
    "                \n",
    "        for j in range(cols):\n",
    "            if board[0][j] == 'O':\n",
    "                dfs(0, j)\n",
    "            if board[rows - 1][j] == 'O':\n",
    "                dfs(rows - 1,j)\n",
    "                \n",
    "                \n",
    "        # Flip all the remaining 'O's to 'X's and flip '#' back to 'O's\n",
    "        for i in range(rows):\n",
    "            for j in range(cols):\n",
    "                if board[i][j] == 'O':\n",
    "                    board[i][j] = 'X'\n",
    "                elif board[i][j] == '#':\n",
    "                    board[i][j] = 'O'"
   ]
  },
  {
   "cell_type": "markdown",
   "metadata": {},
   "source": [
    "# 399. Evaluate Division"
   ]
  },
  {
   "cell_type": "code",
   "execution_count": 52,
   "metadata": {},
   "outputs": [],
   "source": [
    "equations = [[\"a\",\"b\"],[\"b\",\"c\"],[\"c\",\"d\"]]\n",
    "values = [2.0,3.0,4.0]\n",
    "queries = [[\"a\",\"d\"],[\"b\",\"a\"],[\"a\",\"e\"],[\"a\",\"a\"],[\"x\",\"x\"]]"
   ]
  },
  {
   "cell_type": "code",
   "execution_count": 53,
   "metadata": {},
   "outputs": [],
   "source": [
    "class Solution:\n",
    "    def calcEquation(self, equations: List[List[str]], values: List[float], queries: List[List[str]]) -> List[float]:\n",
    "        \n",
    "        # Build the graph\n",
    "        graph_dict = defaultdict(dict)\n",
    "        for (dividend, divisor), value in zip(equations, values):\n",
    "            graph_dict[dividend][divisor] = value\n",
    "            graph_dict[divisor][dividend] = 1/value\n",
    "\n",
    "        #Construct dfs logic\n",
    "        def dfs(start: float,end: float,visited: set) -> int: \n",
    "            if start not in graph_dict or end not in graph_dict or start in visited:\n",
    "                return -1.0\n",
    "            if start == end:\n",
    "                return 1.0\n",
    "            \n",
    "            visited.add(start)\n",
    "            \n",
    "            for neighbor , val in graph_dict[start].items():\n",
    "                # Avoid infinite loops\n",
    "                if neighbor in visited:\n",
    "                    continue\n",
    "                \n",
    "                result = dfs(neighbor, end, visited)\n",
    "                # After traversing to the final end, the value other than -1.0 is returned and passed to the upper level.\n",
    "                if result != -1.0:\n",
    "                    return result * val\n",
    "                    \n",
    "            return -1.0\n",
    "        \n",
    "        vis = set()\n",
    "        results=[]\n",
    "        for (s, t) in queries:\n",
    "            results.append(dfs(s,t,vis))\n",
    "            \n",
    "        return results"
   ]
  },
  {
   "cell_type": "code",
   "execution_count": 54,
   "metadata": {},
   "outputs": [
    {
     "data": {
      "text/plain": [
       "[24.0, -1.0, -1.0, -1.0, -1.0]"
      ]
     },
     "execution_count": 54,
     "metadata": {},
     "output_type": "execute_result"
    }
   ],
   "source": [
    "Solution().calcEquation(equations,values,queries)"
   ]
  },
  {
   "cell_type": "markdown",
   "metadata": {},
   "source": [
    "# 210. Course Schedule II"
   ]
  },
  {
   "cell_type": "code",
   "execution_count": 4,
   "metadata": {},
   "outputs": [],
   "source": [
    "numCourses = 4\n",
    "prerequisites = [[1,0],[2,0],[3,1],[3,2]]\n",
    "#Output: [0,2,1,3]"
   ]
  },
  {
   "cell_type": "code",
   "execution_count": 15,
   "metadata": {},
   "outputs": [],
   "source": [
    "class Solution:\n",
    "    def findOrder(self, numCourses: int, prerequisites: List[List[int]]) -> List[int]:\n",
    "        edge = {i:[] for i in range(numCourses)}\n",
    "        indegrees = [0 for i in range(numCourses)]\n",
    "        \n",
    "        for i , j in prerequisites:\n",
    "            edge[j].append(i)\n",
    "            indegrees[i] += 1\n",
    "        \n",
    "        queue , result = deque() , []\n",
    "        \n",
    "        for index , i in enumerate(indegrees):\n",
    "            if i==0:\n",
    "                queue.append(index)\n",
    "\n",
    "        while queue:\n",
    "            node = queue.popleft()\n",
    "            result.append(node)\n",
    "            \n",
    "            for value in edge[node]:\n",
    "                indegrees[value]-=1\n",
    "                if indegrees[value] == 0:\n",
    "                    queue.append(value)\n",
    "        \n",
    "        return result if len(result)== numCourses else []"
   ]
  },
  {
   "cell_type": "code",
   "execution_count": 14,
   "metadata": {},
   "outputs": [
    {
     "data": {
      "text/plain": [
       "[0, 1, 2, 3]"
      ]
     },
     "execution_count": 14,
     "metadata": {},
     "output_type": "execute_result"
    }
   ],
   "source": [
    "Solution().findOrder(numCourses,prerequisites)"
   ]
  },
  {
   "cell_type": "code",
   "execution_count": null,
   "metadata": {},
   "outputs": [],
   "source": []
  }
 ],
 "metadata": {
  "kernelspec": {
   "display_name": "nlp_310",
   "language": "python",
   "name": "python3"
  },
  "language_info": {
   "codemirror_mode": {
    "name": "ipython",
    "version": 3
   },
   "file_extension": ".py",
   "mimetype": "text/x-python",
   "name": "python",
   "nbconvert_exporter": "python",
   "pygments_lexer": "ipython3",
   "version": "3.10.13"
  }
 },
 "nbformat": 4,
 "nbformat_minor": 2
}
