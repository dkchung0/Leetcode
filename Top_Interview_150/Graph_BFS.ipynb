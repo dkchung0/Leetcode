{
 "cells": [
  {
   "cell_type": "code",
   "execution_count": 4,
   "metadata": {},
   "outputs": [],
   "source": [
    "from typing import Optional,List\n",
    "from collections import defaultdict , deque"
   ]
  },
  {
   "cell_type": "markdown",
   "metadata": {},
   "source": [
    "# 909. Snakes and Ladders"
   ]
  },
  {
   "cell_type": "code",
   "execution_count": 5,
   "metadata": {},
   "outputs": [],
   "source": [
    "class Solution:\n",
    "    def snakesAndLadders(self, board: List[List[int]]) -> int:\n",
    "        n = len(board)\n",
    "        \n",
    "        dist = {1: 0}\n",
    "        queue = deque([1])\n",
    "        \n",
    "        def get_pos(s,n):\n",
    "            quotient = (s-1)//n\n",
    "            remainer = (s-1)%n\n",
    "            row = n-1-quotient\n",
    "            \n",
    "            if row % 2 != n % 2:\n",
    "                col = remainer\n",
    "            else:\n",
    "                col = n-1-remainer \n",
    "                \n",
    "            return row , col\n",
    "        \n",
    "        while queue:\n",
    "            s = queue.popleft()\n",
    "            if s == n*n:\n",
    "                return dist[s]\n",
    "            \n",
    "            for s2 in range(s+1,min(s+6,n*n)+1):\n",
    "                r,c  = get_pos(s2,n)\n",
    "                if board[r][c] != -1:\n",
    "                    s2 = board[r][c]\n",
    "                if s2 not in dist:\n",
    "                    dist[s2] =  dist[s] +1\n",
    "                    queue.append(s2)\n",
    "        \n",
    "        return -1  "
   ]
  },
  {
   "cell_type": "markdown",
   "metadata": {},
   "source": [
    "# 433. Minimum Genetic Mutation"
   ]
  },
  {
   "cell_type": "code",
   "execution_count": 9,
   "metadata": {},
   "outputs": [],
   "source": [
    "startGene = \"AACCGGTT\"\n",
    "endGene = \"AAACGGTA\"\n",
    "bank = [\"AACCGGTA\",\"AACCGCTA\",\"AAACGGTA\"]"
   ]
  },
  {
   "cell_type": "code",
   "execution_count": 13,
   "metadata": {},
   "outputs": [],
   "source": [
    "class Solution:\n",
    "    def minMutation(self, startGene: str, endGene: str, bank: List[str]) -> int:\n",
    "        \n",
    "        queue = deque()\n",
    "        queue.append((startGene,0))\n",
    "        bank_set = set(bank)\n",
    "        \n",
    "        while queue:\n",
    "            gene,step = queue.popleft()\n",
    "            if gene == endGene:\n",
    "                return step\n",
    "            \n",
    "            for i in range(len(gene)):\n",
    "                for x in \"ACGT\":\n",
    "                    new_gene = gene[:i] + x + gene[i+1:]\n",
    "                    if new_gene in bank_set:\n",
    "                         queue.append((new_gene,step+1))\n",
    "                         # This ensures that each gene will only be processed once, thus avoiding an infinite loop.\n",
    "                         bank_set.remove(new_gene)\n",
    "        return -1"
   ]
  },
  {
   "cell_type": "code",
   "execution_count": null,
   "metadata": {},
   "outputs": [],
   "source": []
  }
 ],
 "metadata": {
  "kernelspec": {
   "display_name": "nlp_310",
   "language": "python",
   "name": "python3"
  },
  "language_info": {
   "codemirror_mode": {
    "name": "ipython",
    "version": 3
   },
   "file_extension": ".py",
   "mimetype": "text/x-python",
   "name": "python",
   "nbconvert_exporter": "python",
   "pygments_lexer": "ipython3",
   "version": "3.10.13"
  }
 },
 "nbformat": 4,
 "nbformat_minor": 2
}
