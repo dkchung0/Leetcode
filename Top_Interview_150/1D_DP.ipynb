{
 "cells": [
  {
   "cell_type": "code",
   "execution_count": 1,
   "metadata": {},
   "outputs": [],
   "source": [
    "from typing import Optional,List\n",
    "from collections import defaultdict"
   ]
  },
  {
   "cell_type": "markdown",
   "metadata": {},
   "source": [
    "# 198. House Robber"
   ]
  },
  {
   "cell_type": "code",
   "execution_count": 13,
   "metadata": {},
   "outputs": [],
   "source": [
    "nums = [7,2,9,15,3,4,10,1]"
   ]
  },
  {
   "cell_type": "code",
   "execution_count": 16,
   "metadata": {},
   "outputs": [],
   "source": [
    "class Solution:\n",
    "    def rob(self, nums: List[int]) -> int:\n",
    "        if len(nums)<2:\n",
    "            return max(nums)\n",
    "        \n",
    "        n = len(nums)\n",
    "    \n",
    "        # 初始化狀態\n",
    "        dp = [0] * n\n",
    "        dp[0] = nums[0]\n",
    "        dp[1] = max(nums[0], nums[1])\n",
    "        \n",
    "        for i in range(2,n):\n",
    "            # 轉移條件\n",
    "            dp[i] = max(dp[i-2]+nums[i],dp[i-1])\n",
    "            \n",
    "        return dp[-1]"
   ]
  },
  {
   "cell_type": "code",
   "execution_count": 17,
   "metadata": {},
   "outputs": [
    {
     "data": {
      "text/plain": [
       "32"
      ]
     },
     "execution_count": 17,
     "metadata": {},
     "output_type": "execute_result"
    }
   ],
   "source": [
    "Solution().rob(nums)"
   ]
  },
  {
   "cell_type": "markdown",
   "metadata": {},
   "source": [
    "# 300. Longest Increasing Subsequence"
   ]
  },
  {
   "cell_type": "code",
   "execution_count": 34,
   "metadata": {},
   "outputs": [],
   "source": [
    "nums = [1,0,1,3,2,3]"
   ]
  },
  {
   "cell_type": "code",
   "execution_count": 35,
   "metadata": {},
   "outputs": [],
   "source": [
    "class Solution:\n",
    "    def lengthOfLIS(self, nums: List[int]) -> int:\n",
    "        \n",
    "        n = len(nums)\n",
    "        dp = [1] * n\n",
    "        \n",
    "        # 確定以 nums[i] 結尾的最長遞增子序列的長度\n",
    "        for i in range(n):\n",
    "            for j in range(i):\n",
    "                # 檢查 nums[i] 以前的數字\n",
    "                if nums[i]>nums[j]:\n",
    "                    dp[i] = max(dp[i],dp[j]+1)\n",
    "        \n",
    "        return max(dp)   "
   ]
  },
  {
   "cell_type": "code",
   "execution_count": 36,
   "metadata": {},
   "outputs": [
    {
     "data": {
      "text/plain": [
       "4"
      ]
     },
     "execution_count": 36,
     "metadata": {},
     "output_type": "execute_result"
    }
   ],
   "source": [
    "Solution().lengthOfLIS(nums)"
   ]
  }
 ],
 "metadata": {
  "kernelspec": {
   "display_name": "nlp_310",
   "language": "python",
   "name": "python3"
  },
  "language_info": {
   "codemirror_mode": {
    "name": "ipython",
    "version": 3
   },
   "file_extension": ".py",
   "mimetype": "text/x-python",
   "name": "python",
   "nbconvert_exporter": "python",
   "pygments_lexer": "ipython3",
   "version": "3.10.13"
  }
 },
 "nbformat": 4,
 "nbformat_minor": 2
}
