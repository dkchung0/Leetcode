{
 "cells": [
  {
   "cell_type": "code",
   "execution_count": 7,
   "metadata": {},
   "outputs": [],
   "source": [
    "import collections"
   ]
  },
  {
   "attachments": {},
   "cell_type": "markdown",
   "metadata": {},
   "source": [
    "# 二元樹 (Binary Tree)"
   ]
  },
  {
   "cell_type": "code",
   "execution_count": 8,
   "metadata": {},
   "outputs": [],
   "source": [
    "class TreeNode:\n",
    "    def __init__(self, val=0, left=None, right=None):\n",
    "        self.val = val\n",
    "        self.left = left\n",
    "        self.right = right\n",
    "\n",
    "root = TreeNode(5)\n",
    "root.left = TreeNode(3)\n",
    "root.right = TreeNode(6)\n",
    "root.left.left = TreeNode(2)\n",
    "root.left.right = TreeNode(4)\n",
    "root.right.left = TreeNode(9)\n",
    "root.right.right = TreeNode(7)"
   ]
  },
  {
   "attachments": {},
   "cell_type": "markdown",
   "metadata": {},
   "source": [
    "        5\n",
    "       / \\\n",
    "      3   6\n",
    "     / \\ / \\\n",
    "    2  4 9  7"
   ]
  },
  {
   "attachments": {},
   "cell_type": "markdown",
   "metadata": {},
   "source": [
    "### 深度優先搜尋(DFS, Depth-First Search)"
   ]
  },
  {
   "cell_type": "code",
   "execution_count": 9,
   "metadata": {},
   "outputs": [],
   "source": [
    "def travelDfs(tree):\n",
    "    if not tree: \n",
    "        return\n",
    "    \n",
    "    print(tree.val)\n",
    "    travelDfs(tree.left)\n",
    "    travelDfs(tree.right)"
   ]
  },
  {
   "cell_type": "code",
   "execution_count": 10,
   "metadata": {},
   "outputs": [
    {
     "name": "stdout",
     "output_type": "stream",
     "text": [
      "5\n",
      "3\n",
      "2\n",
      "4\n",
      "6\n",
      "9\n",
      "7\n"
     ]
    }
   ],
   "source": [
    "travelDfs(root)"
   ]
  },
  {
   "attachments": {},
   "cell_type": "markdown",
   "metadata": {},
   "source": [
    "### 廣度優先搜尋(BFS, Breadth-First Search)"
   ]
  },
  {
   "cell_type": "code",
   "execution_count": 11,
   "metadata": {},
   "outputs": [
    {
     "name": "stdout",
     "output_type": "stream",
     "text": [
      "5\n",
      "3\n",
      "6\n",
      "2\n",
      "4\n",
      "9\n",
      "7\n"
     ]
    }
   ],
   "source": [
    "q = collections.deque()\n",
    "q.append(root)\n",
    "\n",
    "while q:\n",
    "    n = q.popleft()\n",
    "    if n :\n",
    "        print(n.val)\n",
    "    \n",
    "    if n.left:\n",
    "        q.append(n.left)\n",
    "    if n.right:\n",
    "        q.append(n.right)"
   ]
  },
  {
   "cell_type": "code",
   "execution_count": null,
   "metadata": {},
   "outputs": [],
   "source": []
  }
 ],
 "metadata": {
  "kernelspec": {
   "display_name": "leetcode",
   "language": "python",
   "name": "python3"
  },
  "language_info": {
   "codemirror_mode": {
    "name": "ipython",
    "version": 3
   },
   "file_extension": ".py",
   "mimetype": "text/x-python",
   "name": "python",
   "nbconvert_exporter": "python",
   "pygments_lexer": "ipython3",
   "version": "3.10.10"
  },
  "orig_nbformat": 4
 },
 "nbformat": 4,
 "nbformat_minor": 2
}
