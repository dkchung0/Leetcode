{
 "cells": [
  {
   "cell_type": "code",
   "execution_count": 8,
   "metadata": {},
   "outputs": [],
   "source": [
    "from typing import Optional,List"
   ]
  },
  {
   "cell_type": "markdown",
   "metadata": {},
   "source": [
    "# 100. Same Tree\n",
    "DFS"
   ]
  },
  {
   "cell_type": "code",
   "execution_count": 4,
   "metadata": {},
   "outputs": [],
   "source": [
    "class TreeNode:\n",
    "    def __init__(self, val=0, left=None, right=None):\n",
    "        self.val = val\n",
    "        self.left = left\n",
    "        self.right = right\n",
    "class Solution:\n",
    "    def isSameTree(self, p: Optional[TreeNode], q: Optional[TreeNode]) -> bool:\n",
    "        if not p and not q:\n",
    "            return True\n",
    "        \n",
    "        if not p or not q:\n",
    "            return False\n",
    "\n",
    "        if p.val != q.val:\n",
    "            return False\n",
    "\n",
    "        return self.isSameTree(p.left,q.left) and self.isSameTree(p.right,q.right)"
   ]
  },
  {
   "cell_type": "markdown",
   "metadata": {},
   "source": [
    "# 101. Symmetric Tree\n",
    "DFS和對稱邏輯"
   ]
  },
  {
   "cell_type": "code",
   "execution_count": 3,
   "metadata": {},
   "outputs": [],
   "source": [
    "class TreeNode:\n",
    "    def __init__(self, val=0, left=None, right=None):\n",
    "        self.val = val\n",
    "        self.left = left\n",
    "        self.right = right\n",
    "class Solution:\n",
    "    def isSymmetric(self, root: Optional[TreeNode]) -> bool:\n",
    "        if not root:\n",
    "            return True\n",
    "\n",
    "        def isMirror(left: Optional[TreeNode], right: Optional[TreeNode]) -> bool:\n",
    "            # 如果兩個子樹都是空的，它們是對稱的\n",
    "            if not left and not right:\n",
    "                return True\n",
    "            if not left or not right:\n",
    "                return False\n",
    "            if left.val != right.val:\n",
    "                return False\n",
    "\n",
    "            #　遞歸檢查一個子樹的左子樹和另一個子樹的右子樹，和一個子樹的右子樹和另一個子樹的左子樹是否對稱\n",
    "            return isMirror(left.left,right.right) and isMirror(left.right,right.left)\n",
    "\n",
    "        return isMirror(root.left,root.right)"
   ]
  },
  {
   "cell_type": "markdown",
   "metadata": {},
   "source": [
    "# 106. Construct Binary Tree from Inorder and Postorder Traversal"
   ]
  },
  {
   "cell_type": "markdown",
   "metadata": {},
   "source": [
    "#### 中序遍歷\n",
    "1.以左子樹、根節點、右子樹的順序進行遍歷.\n",
    "\n",
    "2.可以用來確定樹的結構，特別是用來確定左子樹和右子樹的邊界。"
   ]
  },
  {
   "cell_type": "markdown",
   "metadata": {},
   "source": [
    "#### 後序遍歷\n",
    "1.以左子樹、右子樹、根節點的順序進行遍歷。\n",
    "\n",
    "2.後序遍歷的最後一個元素總是樹的根節點。"
   ]
  },
  {
   "cell_type": "code",
   "execution_count": 9,
   "metadata": {},
   "outputs": [],
   "source": [
    "class TreeNode:\n",
    "    def __init__(self, val=0, left=None, right=None):\n",
    "        self.val = val\n",
    "        self.left = left\n",
    "        self.right = right\n",
    "class Solution:\n",
    "    def buildTree(self, inorder: List[int], postorder: List[int]) -> Optional[TreeNode]:\n",
    "        \n",
    "        if not inorder or not postorder:\n",
    "            return \n",
    "\n",
    "        # 從後序遍歷數組中取出最後一個元素作為根節點的值\n",
    "        val = postorder.pop()\n",
    "        root = TreeNode(val)\n",
    "\n",
    "        # 在中序遍歷數組中找到根節點的索引\n",
    "        index = inorder.index(val)\n",
    "\n",
    "        # 先構建右子樹，因為後序遍歷的特性（根節點在最後）\n",
    "        root.right = self.buildTree(inorder[index+1:],postorder[index:])\n",
    "        root.left = self.buildTree(inorder[:index],postorder[:index])\n",
    "        \n",
    "        return root\n",
    "    \n",
    "# use list slice takes too long"
   ]
  },
  {
   "cell_type": "code",
   "execution_count": null,
   "metadata": {},
   "outputs": [],
   "source": [
    "class Solution:\n",
    "    def buildTree(self, inorder: List[int], postorder: List[int]) -> Optional[TreeNode]:\n",
    "        \n",
    "        inorder_index_map = {val: idx for idx, val in enumerate(inorder)}\n",
    "\n",
    "        def helper(left:int,right:int) ->  Optional[TreeNode]:\n",
    "\n",
    "            if left > right:\n",
    "                return None\n",
    "            \n",
    "            val = postorder.pop()\n",
    "            root = TreeNode(val)\n",
    "\n",
    "            index  = inorder_index_map[val]\n",
    "\n",
    "            # 構建右子樹（注意這裡先構建右子樹是因為後序遍歷的特性）\n",
    "            root.right = helper(index + 1, right)\n",
    "            root.left = helper(left, index-1)\n",
    "\n",
    "            return root\n",
    "\n",
    "        return helper(0, len(inorder) - 1)\n",
    "    \n",
    "# Change the function parameters to pass in int\n",
    "        "
   ]
  },
  {
   "cell_type": "markdown",
   "metadata": {},
   "source": [
    "# 117. Populating Next Right Pointers in Each Node II"
   ]
  },
  {
   "cell_type": "code",
   "execution_count": 13,
   "metadata": {},
   "outputs": [],
   "source": [
    "class Node:\n",
    "    def __init__(self, val: int = 0, left: 'Node' = None, right: 'Node' = None, next: 'Node' = None):\n",
    "        self.val = val\n",
    "        self.left = left\n",
    "        self.right = right\n",
    "        self.next = next\n",
    "\n",
    "class Solution:\n",
    "    def connect(self, root: 'Node') -> 'Node':\n",
    "        \n",
    "        if not root:\n",
    "            return None\n",
    "        \n",
    "        queue=[root]\n",
    "        queue.append(None)\n",
    "        \n",
    "        while queue:\n",
    "            node  = queue.pop(0)\n",
    "            \n",
    "            # 檢查當下的點是否為空值\n",
    "            if node :\n",
    "                # 只要非None值都一律指向下一個值(None也沒關係)\n",
    "                node .next = queue[0]\n",
    "\n",
    "                if node .left:\n",
    "                    queue.append(node .left)\n",
    "                if node .right:\n",
    "                    queue.append(node .right)\n",
    "            \n",
    "            else:\n",
    "                # 如果queue中還有node，代表還有下一層要跑，在最後面新增一個None\n",
    "                # 反之沒有代表當下的None就是最後一個值\n",
    "                if queue:\n",
    "                    queue.append(None)\n",
    "           \n",
    "        return root "
   ]
  },
  {
   "cell_type": "code",
   "execution_count": null,
   "metadata": {},
   "outputs": [],
   "source": []
  }
 ],
 "metadata": {
  "kernelspec": {
   "display_name": "nlp_310",
   "language": "python",
   "name": "python3"
  },
  "language_info": {
   "codemirror_mode": {
    "name": "ipython",
    "version": 3
   },
   "file_extension": ".py",
   "mimetype": "text/x-python",
   "name": "python",
   "nbconvert_exporter": "python",
   "pygments_lexer": "ipython3",
   "version": "3.10.13"
  }
 },
 "nbformat": 4,
 "nbformat_minor": 2
}
