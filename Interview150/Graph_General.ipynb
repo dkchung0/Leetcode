{
 "cells": [
  {
   "cell_type": "code",
   "execution_count": 1,
   "metadata": {},
   "outputs": [],
   "source": [
    "from typing import Optional,List\n",
    "from collections import defaultdict"
   ]
  },
  {
   "cell_type": "markdown",
   "metadata": {},
   "source": [
    "# 130. Surrounded Regions"
   ]
  },
  {
   "cell_type": "code",
   "execution_count": 13,
   "metadata": {},
   "outputs": [],
   "source": [
    "class Solution:\n",
    "    def solve(self, board: List[List[str]]) -> None:\n",
    "        \"\"\"\n",
    "        Do not return anything, modify board in-place instead.\n",
    "        \"\"\"\n",
    "        if not board:\n",
    "            return None\n",
    "        \n",
    "        rows, cols = len(board), len(board[0])\n",
    "        \n",
    "        def dfs(r, c):\n",
    "            # In addition to the boundary, the stopping condition of dfs is to record the visited\n",
    "            if r < 0 or r >= rows or c < 0 or c >= cols or board[r][c] != 'O':\n",
    "                return\n",
    "            board[r][c] = '#'\n",
    "            directions = [(1, 0), (-1, 0), (0, 1), (0, -1)]\n",
    "            for dr, dc in directions:\n",
    "                dfs(r + dr, c + dc)\n",
    "        \n",
    "        # Mark the 'O's on the border and their connected 'O's\n",
    "        for i in range(rows):\n",
    "            if board[i][0] == 'O':\n",
    "                dfs(i, 0)\n",
    "            if board[i][cols - 1] == 'O':\n",
    "                dfs(i, cols - 1)\n",
    "                \n",
    "        for j in range(cols):\n",
    "            if board[0][j] == 'O':\n",
    "                dfs(0, j)\n",
    "            if board[rows - 1][j] == 'O':\n",
    "                dfs(rows - 1,j)\n",
    "                \n",
    "                \n",
    "        # Flip all the remaining 'O's to 'X's and flip '#' back to 'O's\n",
    "        for i in range(rows):\n",
    "            for j in range(cols):\n",
    "                if board[i][j] == 'O':\n",
    "                    board[i][j] = 'X'\n",
    "                elif board[i][j] == '#':\n",
    "                    board[i][j] = 'O'"
   ]
  },
  {
   "cell_type": "code",
   "execution_count": null,
   "metadata": {},
   "outputs": [],
   "source": []
  }
 ],
 "metadata": {
  "kernelspec": {
   "display_name": "nlp_310",
   "language": "python",
   "name": "python3"
  },
  "language_info": {
   "codemirror_mode": {
    "name": "ipython",
    "version": 3
   },
   "file_extension": ".py",
   "mimetype": "text/x-python",
   "name": "python",
   "nbconvert_exporter": "python",
   "pygments_lexer": "ipython3",
   "version": "3.10.13"
  }
 },
 "nbformat": 4,
 "nbformat_minor": 2
}
