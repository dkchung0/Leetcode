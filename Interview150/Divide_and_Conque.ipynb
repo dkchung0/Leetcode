{
 "cells": [
  {
   "cell_type": "code",
   "execution_count": 2,
   "metadata": {
    "metadata": {}
   },
   "outputs": [],
   "source": [
    "from typing import Optional,List"
   ]
  },
  {
   "cell_type": "markdown",
   "metadata": {},
   "source": [
    "# 108. Convert Sorted Array to Binary Search Tree\n",
    "When building a binary tree, use recursion"
   ]
  },
  {
   "cell_type": "code",
   "execution_count": 15,
   "metadata": {},
   "outputs": [],
   "source": [
    "nums = [-10,-3,0,5,9]"
   ]
  },
  {
   "cell_type": "code",
   "execution_count": 16,
   "metadata": {},
   "outputs": [],
   "source": [
    "class TreeNode:\n",
    "    def __init__(self, val=0, left=None, right=None):\n",
    "        self.val = val\n",
    "        self.left = left\n",
    "        self.right = right\n",
    "class Solution:\n",
    "    def sortedArrayToBST(self, nums: List[int]) -> Optional[TreeNode]:\n",
    "        if len(nums)==0:\n",
    "            return None\n",
    "        else:\n",
    "            mid = len(nums)//2\n",
    "            root = TreeNode(nums[mid])\n",
    "            # First divide into left subtree and right subtree and recurse respectively.\n",
    "            root.left = self.sortedArrayToBST(nums[:mid])\n",
    "            root.right = self.sortedArrayToBST(nums[mid+1:])\n",
    "\n",
    "            return root"
   ]
  },
  {
   "cell_type": "markdown",
   "metadata": {},
   "source": [
    "# 148. Sort List\n",
    "\n",
    "step1.先用快慢指針去找到列Linklist的中間\n",
    "\n",
    "step2.再用遞歸的方式去分割直到該node沒有下個next\n",
    "\n",
    "step3.接下來從各個node開始比較大小依序合併成一個有序的鏈表\n",
    "\n",
    "step4.最後就是逐一比對兩個鏈表中head node的大小,用dummy node去接,接到後移動當前node到下一個next\n",
    "\n",
    "step5.當一個鏈表已經不滿足while條件後,最後接上另外一個鏈表就是答案了\n",
    "\n"
   ]
  },
  {
   "cell_type": "code",
   "execution_count": 3,
   "metadata": {
    "metadata": {}
   },
   "outputs": [],
   "source": [
    "class ListNode:\n",
    "    def __init__(self, val=0, next=None):\n",
    "        self.val = val\n",
    "        self.next = next\n",
    "class Solution:\n",
    "    def merge(self,l1: ListNode, l2: ListNode) -> ListNode:\n",
    "            dummy = ListNode()\n",
    "            tail = dummy\n",
    "            \n",
    "            while l1 and l2:\n",
    "                if l1.val < l2.val:\n",
    "                    tail.next = l1\n",
    "                    l1 = l1.next\n",
    "                else:\n",
    "                    tail.next = l2\n",
    "                    l2 = l2.next\n",
    "                tail = tail.next\n",
    "\n",
    "            # 當一個鏈表耗盡時，連接剩餘的另一個鏈表\n",
    "            tail.next = l1 if l1 else l2\n",
    "            \n",
    "            return dummy.next\n",
    "            \n",
    "    def sortList(self, head: Optional[ListNode]) -> Optional[ListNode]:\n",
    "        \n",
    "        if not head or not head.next:\n",
    "            return head\n",
    "        \n",
    "        # 使用快慢指針找到中點\n",
    "        slow, fast = head, head.next\n",
    "        while fast and fast.next:\n",
    "            slow = slow.next\n",
    "            fast = fast.next.next\n",
    "        \n",
    "        # 分割鏈表\n",
    "        mid = slow.next\n",
    "        slow.next = None\n",
    "        \n",
    "        # 遞歸排序\n",
    "        left = self.sortList(head)\n",
    "        right = self.sortList(mid)\n",
    "    \n",
    "        \n",
    "        # 合併排序後的兩個鏈表\n",
    "        return self.merge(left, right)"
   ]
  },
  {
   "cell_type": "code",
   "execution_count": 4,
   "metadata": {
    "metadata": {}
   },
   "outputs": [],
   "source": [
    "class ListNode:\n",
    "    def __init__(self, val=0, next=None):\n",
    "        self.val = val\n",
    "        self.next = next\n",
    "class Solution:\n",
    "    def sortList(self, head: Optional[ListNode]) -> Optional[ListNode]:\n",
    "        if not head:\n",
    "            return head\n",
    "        \n",
    "        temp=[]\n",
    "        node = head\n",
    "        while node:\n",
    "            temp.append(node.val)\n",
    "            node = node.next\n",
    "        \n",
    "        temp.sort()\n",
    "        \n",
    "        node = head\n",
    "        for val in temp:\n",
    "            node.val = val\n",
    "            node = node.next\n",
    "            \n",
    "        return head\n",
    "\n",
    "# 另外一種思路比較簡單"
   ]
  },
  {
   "cell_type": "code",
   "execution_count": null,
   "metadata": {},
   "outputs": [],
   "source": []
  }
 ],
 "metadata": {
  "kernelspec": {
   "display_name": "nlp_310",
   "language": "python",
   "name": "python3"
  },
  "language_info": {
   "codemirror_mode": {
    "name": "ipython",
    "version": 3
   },
   "file_extension": ".py",
   "mimetype": "text/x-python",
   "name": "python",
   "nbconvert_exporter": "python",
   "pygments_lexer": "ipython3",
   "version": "3.10.13"
  }
 },
 "nbformat": 4,
 "nbformat_minor": 2
}
