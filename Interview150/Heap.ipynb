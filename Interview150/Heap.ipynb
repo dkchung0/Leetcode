{
 "cells": [
  {
   "cell_type": "code",
   "execution_count": 4,
   "metadata": {},
   "outputs": [],
   "source": [
    "from typing import Optional,List\n",
    "import heapq"
   ]
  },
  {
   "cell_type": "markdown",
   "metadata": {},
   "source": [
    "# 215. Kth Largest Element in an Array\n",
    "先理解heap的概念,下次要刻heap的演算法"
   ]
  },
  {
   "cell_type": "code",
   "execution_count": 2,
   "metadata": {},
   "outputs": [],
   "source": [
    "nums = [3,2,1,5,6,4]\n",
    "k = 2"
   ]
  },
  {
   "cell_type": "code",
   "execution_count": 81,
   "metadata": {},
   "outputs": [],
   "source": [
    "class Solution:\n",
    "    def findKthLargest(self, nums: List[int], k: int) -> int:\n",
    "\n",
    "        min_heap= []\n",
    "\n",
    "        for num in nums:\n",
    "            print(min_heap)\n",
    "            if len(min_heap)<k:\n",
    "                heapq.heappush(min_heap,num)\n",
    "            elif num > min_heap[0]:\n",
    "                heapq.heappop(min_heap)\n",
    "                heapq.heappush(min_heap,num)\n",
    "                \n",
    "        # 堆頂的元素即為第 k 大的元素\n",
    "        return min_heap[0]\n"
   ]
  },
  {
   "cell_type": "code",
   "execution_count": 82,
   "metadata": {},
   "outputs": [
    {
     "name": "stdout",
     "output_type": "stream",
     "text": [
      "[]\n",
      "[3]\n",
      "[2, 3]\n",
      "[1, 3, 2]\n",
      "[1, 3, 2, 5]\n",
      "[1, 3, 2, 5, 6]\n"
     ]
    },
    {
     "data": {
      "text/plain": [
       "1"
      ]
     },
     "execution_count": 82,
     "metadata": {},
     "output_type": "execute_result"
    }
   ],
   "source": [
    "Solution().findKthLargest(nums,k)"
   ]
  },
  {
   "cell_type": "markdown",
   "metadata": {},
   "source": [
    "# 373. Find K Pairs with Smallest Sums"
   ]
  },
  {
   "cell_type": "code",
   "execution_count": 118,
   "metadata": {},
   "outputs": [],
   "source": [
    "nums1 = [1,7,11]\n",
    "nums2 = [2,4,6]\n",
    "k = 3\n",
    "# Output: [[1,2],[1,4],[1,6]]"
   ]
  },
  {
   "cell_type": "code",
   "execution_count": 119,
   "metadata": {},
   "outputs": [],
   "source": [
    "class Solution:\n",
    "    def kSmallestPairs(self, nums1: List[int], nums2: List[int], k: int) -> List[List[int]]:\n",
    "        \n",
    "        max_heap = []\n",
    "        hash_dict = {}\n",
    "        for i in nums1:\n",
    "            for j in nums2:\n",
    "                temp_sum=i+j\n",
    "                if temp_sum not in hash_dict:\n",
    "                    hash_dict[temp_sum] = [[i,j]]\n",
    "                else:\n",
    "                    hash_dict[temp_sum].append([i,j])\n",
    "               \n",
    "                # Use negative numbers to render max heap\n",
    "                if len(max_heap)<k:\n",
    "                    heapq.heappush(max_heap,-temp_sum)\n",
    "                elif -temp_sum > max_heap[0]:\n",
    "                    heapq.heappop(max_heap)\n",
    "                    heapq.heappush(max_heap,-temp_sum)\n",
    "        \n",
    "        max_heap = sorted(max_heap,reverse=True)\n",
    "        ans = []\n",
    "        for num in max_heap:\n",
    "            # The hash dictionary shares the same sum key, so duplication is avoided.\n",
    "            if len(ans)<k and -num in hash_dict:\n",
    "                ans.extend(hash_dict[-num])\n",
    "                hash_dict.pop(-num)\n",
    "\n",
    "        return ans[:k]\n",
    "    \n",
    "# Memory Limit Exceeded"
   ]
  },
  {
   "cell_type": "code",
   "execution_count": 120,
   "metadata": {},
   "outputs": [],
   "source": [
    "nums1 =[-10,-4,0,0,6]\n",
    "nums2 =[3,5,6,7,8,100]\n",
    "k = 10"
   ]
  },
  {
   "cell_type": "code",
   "execution_count": 121,
   "metadata": {},
   "outputs": [],
   "source": [
    "class Solution:\n",
    "    def kSmallestPairs(self, nums1: List[int], nums2: List[int], k: int) -> List[List[int]]:\n",
    "        max_heap = []\n",
    "        for i in range(min(k, len(nums1))):\n",
    "            for j in range(min(k, len(nums2))):\n",
    "                if len(max_heap) < k:\n",
    "                    heapq.heappush(max_heap, (-(nums1[i] + nums2[j]), nums1[i], nums2[j]))\n",
    "                \n",
    "                # If the ratio is small, take the negative sign and make it bigger.\n",
    "                elif -(nums1[i] + nums2[j]) > max_heap[0][0]:\n",
    "                    heapq.heappush(max_heap, (-(nums1[i] + nums2[j]), nums1[i], nums2[j]))\n",
    "                    heapq.heappop(max_heap)\n",
    "                else:\n",
    "                    # Since the array is sorted\n",
    "                    break\n",
    "\n",
    "        result = []\n",
    "        for i in range(k):\n",
    "            result.append([max_heap[i][-2],max_heap[i][-1]])\n",
    "\n",
    "        return result  "
   ]
  },
  {
   "cell_type": "code",
   "execution_count": 122,
   "metadata": {},
   "outputs": [
    {
     "data": {
      "text/plain": [
       "[[-4, 7],\n",
       " [0, 3],\n",
       " [-4, 3],\n",
       " [-4, 5],\n",
       " [-4, 6],\n",
       " [-10, 5],\n",
       " [-10, 8],\n",
       " [-10, 3],\n",
       " [-10, 7],\n",
       " [-10, 6]]"
      ]
     },
     "execution_count": 122,
     "metadata": {},
     "output_type": "execute_result"
    }
   ],
   "source": [
    "Solution().kSmallestPairs(nums1,nums2,k)"
   ]
  },
  {
   "cell_type": "code",
   "execution_count": null,
   "metadata": {},
   "outputs": [],
   "source": []
  },
  {
   "cell_type": "code",
   "execution_count": null,
   "metadata": {},
   "outputs": [],
   "source": []
  }
 ],
 "metadata": {
  "kernelspec": {
   "display_name": "nlp_311",
   "language": "python",
   "name": "python3"
  },
  "language_info": {
   "codemirror_mode": {
    "name": "ipython",
    "version": 3
   },
   "file_extension": ".py",
   "mimetype": "text/x-python",
   "name": "python",
   "nbconvert_exporter": "python",
   "pygments_lexer": "ipython3",
   "version": "3.11.8"
  }
 },
 "nbformat": 4,
 "nbformat_minor": 2
}
