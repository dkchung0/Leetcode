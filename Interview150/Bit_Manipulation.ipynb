{
 "cells": [
  {
   "cell_type": "code",
   "execution_count": 1,
   "metadata": {},
   "outputs": [],
   "source": [
    "from typing import Optional,List"
   ]
  },
  {
   "cell_type": "markdown",
   "metadata": {},
   "source": [
    "# 190. Reverse Bits"
   ]
  },
  {
   "cell_type": "markdown",
   "metadata": {},
   "source": [
    "左移位運算子 << 會把一個數的二進位表示向左移動指定的位數，右邊空出來的位置用0填滿。這個運算相當於將數字乘以 2 的若干次方。"
   ]
  },
  {
   "cell_type": "code",
   "execution_count": 5,
   "metadata": {},
   "outputs": [
    {
     "data": {
      "text/plain": [
       "0"
      ]
     },
     "execution_count": 5,
     "metadata": {},
     "output_type": "execute_result"
    }
   ],
   "source": [
    "class Solution:\n",
    "    def reverseBits(self, n: int) -> int:\n",
    "        binary_str = bin(n)[2:].zfill(32)\n",
    "        reversed_str = binary_str[::-1]\n",
    "        return int(reversed_str, 2)"
   ]
  },
  {
   "cell_type": "code",
   "execution_count": 64,
   "metadata": {},
   "outputs": [],
   "source": [
    "n = 0b00000010100101000001111010011100"
   ]
  },
  {
   "cell_type": "code",
   "execution_count": 71,
   "metadata": {},
   "outputs": [],
   "source": [
    "class Solution:\n",
    "    def reverseBits(self, n: int) -> int:\n",
    "        result = 0  # 初始化结果为0\n",
    "        for _ in range(32):\n",
    "            result = result << 1 \n",
    "            result |= (n & 1)\n",
    "            n = n >> 1\n",
    "            print(f'After iteration {_ + 1} : {result:032b}')"
   ]
  },
  {
   "cell_type": "code",
   "execution_count": 72,
   "metadata": {},
   "outputs": [
    {
     "name": "stdout",
     "output_type": "stream",
     "text": [
      "After iteration 1 : 00000000000000000000000000000000\n",
      "After iteration 2 : 00000000000000000000000000000000\n",
      "After iteration 3 : 00000000000000000000000000000001\n",
      "After iteration 4 : 00000000000000000000000000000011\n",
      "After iteration 5 : 00000000000000000000000000000111\n",
      "After iteration 6 : 00000000000000000000000000001110\n",
      "After iteration 7 : 00000000000000000000000000011100\n",
      "After iteration 8 : 00000000000000000000000000111001\n",
      "After iteration 9 : 00000000000000000000000001110010\n",
      "After iteration 10 : 00000000000000000000000011100101\n",
      "After iteration 11 : 00000000000000000000000111001011\n",
      "After iteration 12 : 00000000000000000000001110010111\n",
      "After iteration 13 : 00000000000000000000011100101111\n",
      "After iteration 14 : 00000000000000000000111001011110\n",
      "After iteration 15 : 00000000000000000001110010111100\n",
      "After iteration 16 : 00000000000000000011100101111000\n",
      "After iteration 17 : 00000000000000000111001011110000\n",
      "After iteration 18 : 00000000000000001110010111100000\n",
      "After iteration 19 : 00000000000000011100101111000001\n",
      "After iteration 20 : 00000000000000111001011110000010\n",
      "After iteration 21 : 00000000000001110010111100000101\n",
      "After iteration 22 : 00000000000011100101111000001010\n",
      "After iteration 23 : 00000000000111001011110000010100\n",
      "After iteration 24 : 00000000001110010111100000101001\n",
      "After iteration 25 : 00000000011100101111000001010010\n",
      "After iteration 26 : 00000000111001011110000010100101\n",
      "After iteration 27 : 00000001110010111100000101001010\n",
      "After iteration 28 : 00000011100101111000001010010100\n",
      "After iteration 29 : 00000111001011110000010100101000\n",
      "After iteration 30 : 00001110010111100000101001010000\n",
      "After iteration 31 : 00011100101111000001010010100000\n",
      "After iteration 32 : 00111001011110000010100101000000\n"
     ]
    }
   ],
   "source": [
    "Solution().reverseBits(n)"
   ]
  },
  {
   "cell_type": "code",
   "execution_count": null,
   "metadata": {},
   "outputs": [],
   "source": []
  }
 ],
 "metadata": {
  "kernelspec": {
   "display_name": "nlp_311",
   "language": "python",
   "name": "python3"
  },
  "language_info": {
   "codemirror_mode": {
    "name": "ipython",
    "version": 3
   },
   "file_extension": ".py",
   "mimetype": "text/x-python",
   "name": "python",
   "nbconvert_exporter": "python",
   "pygments_lexer": "ipython3",
   "version": "3.11.8"
  }
 },
 "nbformat": 4,
 "nbformat_minor": 2
}
