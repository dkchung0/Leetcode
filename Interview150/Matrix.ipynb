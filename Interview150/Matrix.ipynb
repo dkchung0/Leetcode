{
 "cells": [
  {
   "cell_type": "code",
   "execution_count": 1,
   "metadata": {},
   "outputs": [],
   "source": [
    "from typing import List"
   ]
  },
  {
   "cell_type": "markdown",
   "metadata": {},
   "source": [
    "# 36. Valid Sudoku"
   ]
  },
  {
   "cell_type": "code",
   "execution_count": null,
   "metadata": {},
   "outputs": [],
   "source": [
    "class Solution:\n",
    "    def isValidSudoku(self, board: List[List[str]]) -> bool:\n",
    "        \n",
    "        n, m = len(board[0]), len(board)\n",
    "        \n",
    "        # check row \n",
    "        for i in range(m):\n",
    "            row = set()\n",
    "            for j in range(n):\n",
    "                if board[i][j] != '':\n",
    "                    if board[i][j] in row:\n",
    "                        return False\n",
    "                    row.add(board[i][j])\n",
    "                    \n",
    "        # check col\n",
    "        for i in range(n):\n",
    "            col = set()\n",
    "            for j in range(m):\n",
    "                if board[i][j] != '':\n",
    "                    if board[i][j] in col:\n",
    "                        return False\n",
    "                    col.add(board[i][j])\n",
    "        \n",
    "        # check 3x3 square\n",
    "        for i in range(3):\n",
    "            for j in range(3):\n",
    "                square = set()\n",
    "                for k in range(3):\n",
    "                    for l in range(3):\n",
    "                        if board[i*3+k][j*3+l] in col:\n",
    "                            return False\n",
    "                        square.add(board[i][j])\n",
    "                        \n",
    "        return True"
   ]
  },
  {
   "cell_type": "code",
   "execution_count": null,
   "metadata": {},
   "outputs": [],
   "source": []
  }
 ],
 "metadata": {
  "kernelspec": {
   "display_name": "Python 3 (ipykernel)",
   "language": "python",
   "name": "python3"
  },
  "language_info": {
   "codemirror_mode": {
    "name": "ipython",
    "version": 3
   },
   "file_extension": ".py",
   "mimetype": "text/x-python",
   "name": "python",
   "nbconvert_exporter": "python",
   "pygments_lexer": "ipython3",
   "version": "3.10.13"
  }
 },
 "nbformat": 4,
 "nbformat_minor": 2
}
