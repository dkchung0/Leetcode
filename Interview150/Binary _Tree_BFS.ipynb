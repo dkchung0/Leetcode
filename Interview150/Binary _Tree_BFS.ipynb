{
 "cells": [
  {
   "cell_type": "code",
   "execution_count": 4,
   "metadata": {},
   "outputs": [],
   "source": [
    "from typing import Optional,List"
   ]
  },
  {
   "cell_type": "markdown",
   "metadata": {},
   "source": [
    "# 637. Average of Levels in Binary Tree"
   ]
  },
  {
   "cell_type": "code",
   "execution_count": 18,
   "metadata": {},
   "outputs": [],
   "source": [
    "class TreeNode:\n",
    "    def __init__(self, val=0, left=None, right=None):\n",
    "        self.val = val\n",
    "        self.left = left\n",
    "        self.right = right\n",
    "class Solution:\n",
    "    def averageOfLevels(self, root: Optional[TreeNode]) -> List[float]:\n",
    "\n",
    "        if not root:\n",
    "            return None\n",
    "\n",
    "        queue = [root]\n",
    "        results = []\n",
    "        while queue:\n",
    "            temp_sum = 0 \n",
    "            n = len(queue)\n",
    "            for _ in range(n):\n",
    "                node = queue.pop(0)\n",
    "                temp_sum+=node.val  \n",
    "\n",
    "                if node .left:\n",
    "                    queue.append(node .left)\n",
    "                if node .right:\n",
    "                    queue.append(node .right)\n",
    "\n",
    "            temp_sum/=n\n",
    "            results.append(temp_sum)\n",
    "\n",
    "        return results\n"
   ]
  },
  {
   "cell_type": "markdown",
   "metadata": {},
   "source": [
    "# 103. Binary Tree Zigzag Level Order Traversal"
   ]
  },
  {
   "cell_type": "code",
   "execution_count": 19,
   "metadata": {},
   "outputs": [],
   "source": [
    "class TreeNode:\n",
    "    def __init__(self, val=0, left=None, right=None):\n",
    "        self.val = val\n",
    "        self.left = left\n",
    "        self.right = right\n",
    "class Solution:\n",
    "    def zigzagLevelOrder(self, root: Optional[TreeNode]) -> List[List[int]]:\n",
    "        \n",
    "        if not root:\n",
    "            return None\n",
    "\n",
    "        queue = [root]\n",
    "        result = []\n",
    "        level = 0\n",
    "        while queue:\n",
    "            n = len(queue)\n",
    "            level+=1\n",
    "            temp_result=[]\n",
    "            for _ in range(n):\n",
    "                node = queue.pop(0)\n",
    "                temp_result.append(node.val)\n",
    "\n",
    "                if node.left:\n",
    "                    queue.append(node.left)\n",
    "                if node.right:\n",
    "                    queue.append(node.right)\n",
    "            \n",
    "            # Set reversal conditions\n",
    "            if level%2 !=1:\n",
    "                result.append(temp_result[::-1])\n",
    "            else:\n",
    "                result.append(temp_result)\n",
    "                \n",
    "        return result"
   ]
  },
  {
   "cell_type": "code",
   "execution_count": null,
   "metadata": {},
   "outputs": [],
   "source": []
  }
 ],
 "metadata": {
  "kernelspec": {
   "display_name": "nlp_310",
   "language": "python",
   "name": "python3"
  },
  "language_info": {
   "codemirror_mode": {
    "name": "ipython",
    "version": 3
   },
   "file_extension": ".py",
   "mimetype": "text/x-python",
   "name": "python",
   "nbconvert_exporter": "python",
   "pygments_lexer": "ipython3",
   "version": "3.10.13"
  }
 },
 "nbformat": 4,
 "nbformat_minor": 2
}
