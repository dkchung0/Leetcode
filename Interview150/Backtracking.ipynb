{
 "cells": [
  {
   "cell_type": "code",
   "execution_count": 1,
   "metadata": {},
   "outputs": [],
   "source": [
    "from typing import Optional,List"
   ]
  },
  {
   "cell_type": "markdown",
   "metadata": {},
   "source": [
    "# 77. Combinations\n",
    "問題看起來需要多重迴圈,可考慮用backtracking"
   ]
  },
  {
   "cell_type": "code",
   "execution_count": null,
   "metadata": {},
   "outputs": [],
   "source": [
    "class Solution:\n",
    "    def combine(self, n: int, k: int) -> List[List[int]]:\n",
    "        result = []\n",
    "        def backtrack(start: int, path: List[int]):\n",
    "            # 如果組合的長度達到 k，將其加入結果集\n",
    "            if len(path) == k:\n",
    "                result.append(path[:])\n",
    "                return\n",
    "\n",
    "            # 從 start 開始遍歷數字，並將每個數字加入組合中\n",
    "            for i in range(start, n + 1):\n",
    "                # 將當前數字加入組合\n",
    "                path.append(i)\n",
    "                # 進入下一層回溯\n",
    "                backtrack(i + 1, path)\n",
    "                # 回溯，移除當前數字\n",
    "                path.pop()\n",
    "\n",
    "        backtrack(1, [])\n",
    "        return result"
   ]
  },
  {
   "cell_type": "markdown",
   "metadata": {},
   "source": [
    "# 39. Combination Sum"
   ]
  },
  {
   "cell_type": "code",
   "execution_count": 78,
   "metadata": {},
   "outputs": [],
   "source": [
    "class Solution:\n",
    "    def combinationSum(self, candidates: List[int], target: int) -> List[List[int]]:\n",
    "        \n",
    "        result = []\n",
    "        # 確保每次遞歸只考慮當前元素及其之後的元素。\n",
    "        start = 0\n",
    "        def backtrack(start_index: int, temp_list: List[int]):\n",
    "            if sum(temp_list) == target:\n",
    "                result.append(temp_list[:])  # 追加 temp_list 的副本\n",
    "                return\n",
    "            elif sum(temp_list) > target:\n",
    "                return\n",
    "            \n",
    "            for index in range(start_index, len(candidates)):\n",
    "                num = candidates[index]\n",
    "                temp_list.append(num)\n",
    "                backtrack(index, temp_list)\n",
    "                temp_list.pop()\n",
    "                \n",
    "        backtrack(start,[])\n",
    "        return result"
   ]
  },
  {
   "cell_type": "code",
   "execution_count": 79,
   "metadata": {},
   "outputs": [],
   "source": [
    "candidates = [2,3,5]\n",
    "target = 8"
   ]
  },
  {
   "cell_type": "code",
   "execution_count": 80,
   "metadata": {},
   "outputs": [
    {
     "data": {
      "text/plain": [
       "[[2, 2, 2, 2], [2, 3, 3], [3, 5]]"
      ]
     },
     "execution_count": 80,
     "metadata": {},
     "output_type": "execute_result"
    }
   ],
   "source": [
    "Solution().combinationSum(candidates,target)"
   ]
  },
  {
   "cell_type": "code",
   "execution_count": null,
   "metadata": {},
   "outputs": [],
   "source": []
  }
 ],
 "metadata": {
  "kernelspec": {
   "display_name": "nlp_310",
   "language": "python",
   "name": "python3"
  },
  "language_info": {
   "codemirror_mode": {
    "name": "ipython",
    "version": 3
   },
   "file_extension": ".py",
   "mimetype": "text/x-python",
   "name": "python",
   "nbconvert_exporter": "python",
   "pygments_lexer": "ipython3",
   "version": "3.10.13"
  }
 },
 "nbformat": 4,
 "nbformat_minor": 2
}
