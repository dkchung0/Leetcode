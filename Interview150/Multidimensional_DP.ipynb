{
 "cells": [
  {
   "cell_type": "code",
   "execution_count": 1,
   "metadata": {},
   "outputs": [],
   "source": [
    "from typing import Optional,List\n",
    "from collections import defaultdict"
   ]
  },
  {
   "cell_type": "markdown",
   "metadata": {},
   "source": [
    "# 120. Triangle"
   ]
  },
  {
   "cell_type": "code",
   "execution_count": 18,
   "metadata": {},
   "outputs": [],
   "source": [
    "triangle = [[2],[3,4],[6,5,7],[4,1,8,3]]"
   ]
  },
  {
   "cell_type": "code",
   "execution_count": 19,
   "metadata": {},
   "outputs": [],
   "source": [
    "class Solution:\n",
    "    def minimumTotal(self, triangle: List[List[int]]) -> int:\n",
    "        \n",
    "        n = len(triangle[-1])\n",
    "        dp = [[0]*i for i in range(1,n+1)]\n",
    "        dp[0][0] = triangle[0][0]\n",
    "        \n",
    "        for i in range(1,n):\n",
    "            for j ,v in enumerate(triangle[i]):\n",
    "                if j==0:\n",
    "                    dp[i][0] = v + dp[i-1][0]\n",
    "                elif j == i:\n",
    "                    dp[i][j] = v + dp[i-1][j-1]\n",
    "                else:\n",
    "                    dp[i][j] = min(v+dp[i-1][j],v+dp[i-1][j-1])\n",
    "                        \n",
    "        return min(dp[-1])"
   ]
  },
  {
   "cell_type": "code",
   "execution_count": 20,
   "metadata": {},
   "outputs": [
    {
     "data": {
      "text/plain": [
       "11"
      ]
     },
     "execution_count": 20,
     "metadata": {},
     "output_type": "execute_result"
    }
   ],
   "source": [
    "Solution().minimumTotal(triangle)"
   ]
  },
  {
   "cell_type": "markdown",
   "metadata": {},
   "source": [
    "# 64. Minimum Path Sum"
   ]
  },
  {
   "cell_type": "code",
   "execution_count": 2,
   "metadata": {},
   "outputs": [],
   "source": [
    "grid = [[1,3,1],[1,5,1],[4,2,1]]"
   ]
  },
  {
   "cell_type": "code",
   "execution_count": 9,
   "metadata": {},
   "outputs": [],
   "source": [
    "grid = [[1,2,3],[4,5,6]]"
   ]
  },
  {
   "cell_type": "code",
   "execution_count": 10,
   "metadata": {},
   "outputs": [],
   "source": [
    "class Solution:\n",
    "    def minPathSum(self, grid: List[List[int]]) -> int:\n",
    "        \n",
    "        m,n  = len(grid) , len(grid[0])\n",
    "        dp = [[0]*n for i in range(1,m+1)]\n",
    "        \n",
    "        for i in range(m):\n",
    "            for j in range(n):\n",
    "                if i==0 and j==0:\n",
    "                    dp[0][0] = grid[0][0]\n",
    "                elif i==0:\n",
    "                    dp[0][j] = grid[0][j] + dp[0][j-1]\n",
    "                elif j==0:\n",
    "                    dp[i][0] = grid[i][0] + dp[i-1][0]\n",
    "                else:\n",
    "                    dp[i][j] = min(grid[i][j]+dp[i-1][j],grid[i][j]+dp[i][j-1])\n",
    "                    \n",
    "        return dp[-1][-1]"
   ]
  },
  {
   "cell_type": "code",
   "execution_count": 11,
   "metadata": {},
   "outputs": [
    {
     "data": {
      "text/plain": [
       "12"
      ]
     },
     "execution_count": 11,
     "metadata": {},
     "output_type": "execute_result"
    }
   ],
   "source": [
    "Solution().minPathSum(grid)"
   ]
  },
  {
   "cell_type": "markdown",
   "metadata": {},
   "source": [
    "# 63. Unique Paths II"
   ]
  },
  {
   "cell_type": "code",
   "execution_count": 6,
   "metadata": {},
   "outputs": [],
   "source": [
    "obstacleGrid = [[0,0,0],[0,1,0],[0,0,0]]"
   ]
  },
  {
   "cell_type": "code",
   "execution_count": 7,
   "metadata": {},
   "outputs": [],
   "source": [
    "class Solution:\n",
    "    def uniquePathsWithObstacles(self, obstacleGrid: List[List[int]]) -> int:\n",
    "        \n",
    "        m,n  = len(obstacleGrid) , len(obstacleGrid[0])\n",
    "        dp = [[0]*n for i in range(1,m+1)]\n",
    "        \n",
    "        for i in range(m):\n",
    "            for j in range(n):\n",
    "                if obstacleGrid[i][j]!=1:\n",
    "                    if i==0 and j==0 :\n",
    "                        dp[0][0] = 1\n",
    "                    elif i==0:\n",
    "                        dp[0][j] = obstacleGrid[0][j] + dp[0][j-1]\n",
    "                    elif j==0:\n",
    "                        dp[i][0] = obstacleGrid[i][0] + dp[i-1][0]\n",
    "                    else:\n",
    "                        dp[i][j] = dp[i-1][j]+dp[i][j-1]\n",
    "                        \n",
    "        return dp[-1][-1]\n",
    "        "
   ]
  },
  {
   "cell_type": "code",
   "execution_count": 8,
   "metadata": {},
   "outputs": [
    {
     "data": {
      "text/plain": [
       "2"
      ]
     },
     "execution_count": 8,
     "metadata": {},
     "output_type": "execute_result"
    }
   ],
   "source": [
    "Solution().uniquePathsWithObstacles(obstacleGrid)"
   ]
  }
 ],
 "metadata": {
  "kernelspec": {
   "display_name": "nlp_310",
   "language": "python",
   "name": "python3"
  },
  "language_info": {
   "codemirror_mode": {
    "name": "ipython",
    "version": 3
   },
   "file_extension": ".py",
   "mimetype": "text/x-python",
   "name": "python",
   "nbconvert_exporter": "python",
   "pygments_lexer": "ipython3",
   "version": "3.10.13"
  }
 },
 "nbformat": 4,
 "nbformat_minor": 2
}
