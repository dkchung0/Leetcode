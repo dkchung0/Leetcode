{
 "cells": [
  {
   "cell_type": "code",
   "execution_count": 1,
   "metadata": {},
   "outputs": [],
   "source": [
    "from typing import Optional,List\n",
    "from collections import defaultdict"
   ]
  },
  {
   "cell_type": "markdown",
   "metadata": {},
   "source": [
    "# 120. Triangle"
   ]
  },
  {
   "cell_type": "code",
   "execution_count": 2,
   "metadata": {},
   "outputs": [],
   "source": [
    "triangle = [[2],[3,4],[6,5,7],[4,1,8,3]]"
   ]
  },
  {
   "cell_type": "code",
   "execution_count": 3,
   "metadata": {},
   "outputs": [],
   "source": [
    "class Solution:\n",
    "    def minimumTotal(self, triangle: List[List[int]]) -> int:\n",
    "        \n",
    "        n = len(triangle[-1])\n",
    "        dp = [[0]*i for i in range(1,n+1)]\n",
    "        dp[0][0] = triangle[0][0]\n",
    "        \n",
    "        for i in range(1,n):\n",
    "            for j ,v in enumerate(triangle[i]):\n",
    "                if j==0:\n",
    "                    dp[i][0] = v + dp[i-1][0]\n",
    "                elif j == i:\n",
    "                    dp[i][j] = v + dp[i-1][j-1]\n",
    "                else:\n",
    "                    dp[i][j] = min(v+dp[i-1][j],v+dp[i-1][j-1])\n",
    "                        \n",
    "        return min(dp[-1])"
   ]
  },
  {
   "cell_type": "code",
   "execution_count": 4,
   "metadata": {},
   "outputs": [
    {
     "data": {
      "text/plain": [
       "11"
      ]
     },
     "execution_count": 4,
     "metadata": {},
     "output_type": "execute_result"
    }
   ],
   "source": [
    "Solution().minimumTotal(triangle)"
   ]
  },
  {
   "cell_type": "markdown",
   "metadata": {},
   "source": [
    "# 64. Minimum Path Sum"
   ]
  },
  {
   "cell_type": "code",
   "execution_count": 5,
   "metadata": {},
   "outputs": [],
   "source": [
    "grid = [[1,3,1],[1,5,1],[4,2,1]]"
   ]
  },
  {
   "cell_type": "code",
   "execution_count": 6,
   "metadata": {},
   "outputs": [],
   "source": [
    "grid = [[1,2,3],[4,5,6]]"
   ]
  },
  {
   "cell_type": "code",
   "execution_count": 7,
   "metadata": {},
   "outputs": [],
   "source": [
    "class Solution:\n",
    "    def minPathSum(self, grid: List[List[int]]) -> int:\n",
    "        \n",
    "        m,n  = len(grid) , len(grid[0])\n",
    "        dp = [[0]*n for i in range(1,m+1)]\n",
    "        \n",
    "        for i in range(m):\n",
    "            for j in range(n):\n",
    "                if i==0 and j==0:\n",
    "                    dp[0][0] = grid[0][0]\n",
    "                elif i==0:\n",
    "                    dp[0][j] = grid[0][j] + dp[0][j-1]\n",
    "                elif j==0:\n",
    "                    dp[i][0] = grid[i][0] + dp[i-1][0]\n",
    "                else:\n",
    "                    dp[i][j] = min(grid[i][j]+dp[i-1][j],grid[i][j]+dp[i][j-1])\n",
    "                    \n",
    "        return dp[-1][-1]"
   ]
  },
  {
   "cell_type": "code",
   "execution_count": 8,
   "metadata": {},
   "outputs": [
    {
     "data": {
      "text/plain": [
       "12"
      ]
     },
     "execution_count": 8,
     "metadata": {},
     "output_type": "execute_result"
    }
   ],
   "source": [
    "Solution().minPathSum(grid)"
   ]
  },
  {
   "cell_type": "markdown",
   "metadata": {},
   "source": [
    "# 63. Unique Paths II"
   ]
  },
  {
   "cell_type": "code",
   "execution_count": 9,
   "metadata": {},
   "outputs": [],
   "source": [
    "obstacleGrid = [[0,0,0],[0,1,0],[0,0,0]]"
   ]
  },
  {
   "cell_type": "code",
   "execution_count": 10,
   "metadata": {},
   "outputs": [],
   "source": [
    "class Solution:\n",
    "    def uniquePathsWithObstacles(self, obstacleGrid: List[List[int]]) -> int:\n",
    "        \n",
    "        m,n  = len(obstacleGrid) , len(obstacleGrid[0])\n",
    "        dp = [[0]*n for i in range(1,m+1)]\n",
    "        \n",
    "        for i in range(m):\n",
    "            for j in range(n):\n",
    "                if obstacleGrid[i][j]!=1:\n",
    "                    if i==0 and j==0 :\n",
    "                        dp[0][0] = 1\n",
    "                    elif i==0:\n",
    "                        dp[0][j] = obstacleGrid[0][j] + dp[0][j-1]\n",
    "                    elif j==0:\n",
    "                        dp[i][0] = obstacleGrid[i][0] + dp[i-1][0]\n",
    "                    else:\n",
    "                        dp[i][j] = dp[i-1][j]+dp[i][j-1]\n",
    "                        \n",
    "        return dp[-1][-1]\n",
    "        "
   ]
  },
  {
   "cell_type": "code",
   "execution_count": 11,
   "metadata": {},
   "outputs": [
    {
     "data": {
      "text/plain": [
       "2"
      ]
     },
     "execution_count": 11,
     "metadata": {},
     "output_type": "execute_result"
    }
   ],
   "source": [
    "Solution().uniquePathsWithObstacles(obstacleGrid)"
   ]
  },
  {
   "cell_type": "markdown",
   "metadata": {},
   "source": [
    "# 97. Interleaving String\n",
    "這題要想到用2階矩陣去做dp"
   ]
  },
  {
   "cell_type": "code",
   "execution_count": 12,
   "metadata": {},
   "outputs": [],
   "source": [
    "s1 = \"aabcc\"\n",
    "s2 = \"dbbca\"\n",
    "s3 = \"aadbbcbcac\"\n",
    "#Output: true"
   ]
  },
  {
   "cell_type": "code",
   "execution_count": 13,
   "metadata": {},
   "outputs": [],
   "source": [
    "s1 = \"aabcc\"\n",
    "s2 = \"dbbca\"\n",
    "s3 = \"aadbbbaccc\"\n",
    "#Output: false"
   ]
  },
  {
   "cell_type": "code",
   "execution_count": 14,
   "metadata": {},
   "outputs": [],
   "source": [
    "class Solution:\n",
    "    def isInterleave(self, s1: str, s2: str, s3: str) -> bool:\n",
    "        \n",
    "        m , n = len(s1) ,len(s2)\n",
    "        if m + n != len(s3):\n",
    "            return False\n",
    "\n",
    "        dp = [[0]*(n+1) for i in range(m+1)]\n",
    "        \n",
    "        for i in range(m+1):\n",
    "            for j in range(n+1):\n",
    "                if (i==0 and j==0) or (dp[i-1][j]==1 and s1[i-1] == s3[i+j-1]) or (dp[i][j-1]==1 and s2[j-1] == s3[i+j-1]):\n",
    "                    dp[i][j] = 1\n",
    "                        \n",
    "        return dp[-1][-1]==1"
   ]
  },
  {
   "cell_type": "code",
   "execution_count": 15,
   "metadata": {},
   "outputs": [
    {
     "data": {
      "text/plain": [
       "False"
      ]
     },
     "execution_count": 15,
     "metadata": {},
     "output_type": "execute_result"
    }
   ],
   "source": [
    "Solution().isInterleave(s1,s2,s3)"
   ]
  },
  {
   "cell_type": "markdown",
   "metadata": {},
   "source": [
    "# 72. Edit Distance"
   ]
  },
  {
   "cell_type": "code",
   "execution_count": 16,
   "metadata": {},
   "outputs": [],
   "source": [
    "class Solution:\n",
    "    def minDistance(self, word1: str, word2: str) -> int:\n",
    "\n",
    "        m, n = len(word1), len(word2)\n",
    "        dp = [[0] * (n + 1) for _ in range(m + 1)]\n",
    "\n",
    "        for i in range(m+1):\n",
    "            for j in range(n+1):\n",
    "                if i==0 and j==0:\n",
    "                    dp[i][j] =0\n",
    "                elif i==0:\n",
    "                    dp[i][j] = dp[0][j-1]+1\n",
    "                elif j==0:\n",
    "                    dp[i][j] = dp[i-1][0]+1\n",
    "                    \n",
    "                elif word1[i - 1] == word2[j - 1]:\n",
    "                    dp[i][j] = dp[i-1][j-1]\n",
    "                else:\n",
    "                    dp[i][j] = min(dp[i - 1][j] + 1,     # 刪除\n",
    "                                   dp[i][j - 1] + 1,     # 插入\n",
    "                                   dp[i - 1][j - 1] + 1) # 替換\n",
    "                    \n",
    "        return dp[m][n]"
   ]
  },
  {
   "cell_type": "markdown",
   "metadata": {},
   "source": [
    "# 221. Maximal Square"
   ]
  },
  {
   "cell_type": "code",
   "execution_count": 17,
   "metadata": {},
   "outputs": [],
   "source": [
    "class Solution:\n",
    "    def maximalSquare(self, matrix: List[List[str]]) -> int:\n",
    "        \n",
    "        m,n = len(matrix),len(matrix[0])\n",
    "        dp = [[0] * n for _ in range(m)]\n",
    "        \n",
    "        max_area=0\n",
    "        for i in range(m):\n",
    "            for j in range(n):\n",
    "                if matrix[i][j]==\"1\":\n",
    "                    if i==0 or j==0:\n",
    "                        dp[i][j] = 1\n",
    "                    else:\n",
    "                        dp[i][j] = min(dp[i-1][j],dp[i][j-1],dp[i-1][j-1])+1\n",
    "                    max_area = max(dp[i][j],max_area)\n",
    "\n",
    "        return max_area**2"
   ]
  }
 ],
 "metadata": {
  "kernelspec": {
   "display_name": "nlp_310",
   "language": "python",
   "name": "python3"
  },
  "language_info": {
   "codemirror_mode": {
    "name": "ipython",
    "version": 3
   },
   "file_extension": ".py",
   "mimetype": "text/x-python",
   "name": "python",
   "nbconvert_exporter": "python",
   "pygments_lexer": "ipython3",
   "version": "3.10.13"
  }
 },
 "nbformat": 4,
 "nbformat_minor": 2
}
