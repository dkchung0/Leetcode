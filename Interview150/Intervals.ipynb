{
 "cells": [
  {
   "cell_type": "code",
   "execution_count": 1,
   "metadata": {},
   "outputs": [],
   "source": [
    "from typing import List"
   ]
  },
  {
   "cell_type": "markdown",
   "metadata": {},
   "source": [
    "# 228. Summary Ranges"
   ]
  },
  {
   "cell_type": "code",
   "execution_count": 26,
   "metadata": {},
   "outputs": [],
   "source": [
    "nums = [-1]"
   ]
  },
  {
   "cell_type": "code",
   "execution_count": 27,
   "metadata": {},
   "outputs": [],
   "source": [
    "class Solution:\n",
    "    def summaryRanges(self, nums: List[int]) -> List[str]:\n",
    "\n",
    "        if not nums:\n",
    "            return []\n",
    "\n",
    "        start = nums[0]\n",
    "        end = nums[0]\n",
    "        ans = []\n",
    "        for num in nums[1:]:\n",
    "   \n",
    "            if num - 1 != end:\n",
    "                if start == end:\n",
    "                    ans.append(\"{}\".format(end))\n",
    "                else:    \n",
    "                    ans.append(\"{}->{}\".format(start, end))\n",
    "                start = num\n",
    "            end = num\n",
    "\n",
    "        # Output the last end\n",
    "        if start == end:\n",
    "            ans.append(\"{}\".format(end))\n",
    "        else:    \n",
    "            ans.append(\"{}->{}\".format(start, end))\n",
    "\n",
    "        return ans"
   ]
  },
  {
   "cell_type": "code",
   "execution_count": 28,
   "metadata": {},
   "outputs": [
    {
     "data": {
      "text/plain": [
       "['-1']"
      ]
     },
     "execution_count": 28,
     "metadata": {},
     "output_type": "execute_result"
    }
   ],
   "source": [
    "Solution().summaryRanges(nums)"
   ]
  },
  {
   "cell_type": "markdown",
   "metadata": {},
   "source": [
    "# 452. Minimum Number of Arrows to Burst Balloons"
   ]
  },
  {
   "cell_type": "code",
   "execution_count": 150,
   "metadata": {},
   "outputs": [],
   "source": [
    "points = [[3,9],[3,8],[6,8],[2,9],[0,9],[3,9],[0,6],[2,8]]"
   ]
  },
  {
   "cell_type": "code",
   "execution_count": 114,
   "metadata": {},
   "outputs": [],
   "source": [
    "points.sort()"
   ]
  },
  {
   "cell_type": "code",
   "execution_count": 115,
   "metadata": {},
   "outputs": [
    {
     "data": {
      "text/plain": [
       "[[0, 9], [2, 8], [2, 9], [3, 6], [3, 8], [3, 9], [3, 9], [6, 8]]"
      ]
     },
     "execution_count": 115,
     "metadata": {},
     "output_type": "execute_result"
    }
   ],
   "source": [
    "points"
   ]
  },
  {
   "cell_type": "code",
   "execution_count": 155,
   "metadata": {},
   "outputs": [],
   "source": [
    "points =[[10,16],[2,8],[1,6],[7,12]]"
   ]
  },
  {
   "cell_type": "code",
   "execution_count": 151,
   "metadata": {},
   "outputs": [],
   "source": [
    "class Solution:\n",
    "    def findMinArrowShots(self, points: List[List[int]]) -> int:\n",
    "        \n",
    "        points.sort()\n",
    "        arrow = len(points)\n",
    "        temp = points[0]\n",
    "        \n",
    "        for i in range(1,len(points)):\n",
    "            if points[i][0] >= temp[0] and points[i][0] <= temp[-1]:\n",
    "                arrow-=1\n",
    "                if points[i][0] > temp[0]:\n",
    "                    temp[0] = points[i][0]\n",
    "                if points[i][-1] < temp[-1]:\n",
    "                    temp[-1] = points[i][-1]\n",
    "            else:\n",
    "                temp = points[i]\n",
    "        \n",
    "        return arrow\n",
    "    \n",
    "# Too slow\n",
    "        "
   ]
  },
  {
   "cell_type": "code",
   "execution_count": 156,
   "metadata": {},
   "outputs": [],
   "source": [
    "class Solution:\n",
    "    def findMinArrowShots(self, points: List[List[int]]) -> int:\n",
    "        \n",
    "        points.sort()\n",
    "        temp = points[0][-1]\n",
    "        arrow = 1\n",
    "        for p in points:\n",
    "            if p[0] > temp:\n",
    "                arrow+=1\n",
    "                temp = p[-1]\n",
    "        \n",
    "        return arrow\n",
    "            "
   ]
  },
  {
   "cell_type": "code",
   "execution_count": 157,
   "metadata": {},
   "outputs": [
    {
     "data": {
      "text/plain": [
       "2"
      ]
     },
     "execution_count": 157,
     "metadata": {},
     "output_type": "execute_result"
    }
   ],
   "source": [
    "Solution().findMinArrowShots(points)"
   ]
  },
  {
   "cell_type": "code",
   "execution_count": null,
   "metadata": {},
   "outputs": [],
   "source": []
  }
 ],
 "metadata": {
  "kernelspec": {
   "display_name": "nlp_310",
   "language": "python",
   "name": "python3"
  },
  "language_info": {
   "codemirror_mode": {
    "name": "ipython",
    "version": 3
   },
   "file_extension": ".py",
   "mimetype": "text/x-python",
   "name": "python",
   "nbconvert_exporter": "python",
   "pygments_lexer": "ipython3",
   "version": "3.10.13"
  }
 },
 "nbformat": 4,
 "nbformat_minor": 2
}
