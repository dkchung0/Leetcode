{
 "cells": [
  {
   "attachments": {},
   "cell_type": "markdown",
   "metadata": {},
   "source": [
    "# Array\n",
    "\n",
    "- 邏輯\n",
    "- 左右雙指針"
   ]
  },
  {
   "cell_type": "code",
   "execution_count": 1,
   "metadata": {},
   "outputs": [],
   "source": [
    "from typing import List\n",
    "from typing import Optional"
   ]
  },
  {
   "attachments": {},
   "cell_type": "markdown",
   "metadata": {},
   "source": [
    "# 2023/5/13"
   ]
  },
  {
   "attachments": {},
   "cell_type": "markdown",
   "metadata": {},
   "source": [
    "(1) 57. Insert Interval"
   ]
  },
  {
   "cell_type": "code",
   "execution_count": 140,
   "metadata": {},
   "outputs": [],
   "source": [
    "class Solution:\n",
    "    def insert(self, intervals: List[List[int]], newInterval: List[int]) -> List[List[int]]:\n",
    "        \n",
    "        n = len(intervals)\n",
    "        if n ==0:\n",
    "            return [newInterval]\n",
    "        \n",
    "        res = []\n",
    "        i=0\n",
    "        while i<n and intervals[i][1] < newInterval[0]:\n",
    "            res.append(intervals[i])\n",
    "            i+=1\n",
    "        l, r = newInterval\n",
    "        while i<n and intervals[i][0] <= newInterval[1]:\n",
    "            l = min((l, intervals[i][0]))\n",
    "            r = max((r, intervals[i][1]))\n",
    "            i+=1\n",
    "        res.append([l, r])\n",
    "        res.extend(intervals[i:])\n",
    "        \n",
    "        return res  \n",
    "            \n",
    "          "
   ]
  },
  {
   "attachments": {},
   "cell_type": "markdown",
   "metadata": {},
   "source": [
    "(2) 15. 3Sum"
   ]
  },
  {
   "cell_type": "code",
   "execution_count": null,
   "metadata": {},
   "outputs": [],
   "source": [
    "class Solution:\n",
    "    def threeSum(self, nums: List[int]) -> List[List[int]]:\n",
    "        res = []\n",
    "        nums.sort()\n",
    "        for i in range(len(nums)):\n",
    "            # 避免重複的三元組\n",
    "            if i > 0 and nums[i] == nums[i-1]:\n",
    "                continue\n",
    "            # 使用左右指針算法搜索二元組\n",
    "            left, right = i+1, len(nums)-1\n",
    "            while left < right:\n",
    "                total = nums[i] + nums[left] + nums[right]\n",
    "                if total < 0:\n",
    "                    left += 1\n",
    "                elif total > 0:\n",
    "                    right -= 1\n",
    "                else:\n",
    "                    res.append([nums[i], nums[left], nums[right]])\n",
    "                    # 跳過重複的元素\n",
    "                    while left < right and nums[left] == nums[left+1]:\n",
    "                        left += 1\n",
    "                    while left < right and nums[right] == nums[right-1]:\n",
    "                        right -= 1\n",
    "                    left += 1\n",
    "                    right -= 1\n",
    "        return res"
   ]
  },
  {
   "attachments": {},
   "cell_type": "markdown",
   "metadata": {},
   "source": [
    "(3) 238. Product of Array Except Self"
   ]
  },
  {
   "cell_type": "code",
   "execution_count": null,
   "metadata": {},
   "outputs": [],
   "source": [
    "class Solution:\n",
    "    def productExceptSelf(self, nums: List[int]) -> List[int]:\n",
    "\n",
    "        n = len(nums)\n",
    "        res=[1 for i in range(n)]\n",
    "\n",
    "        left = 1\n",
    "        right = 1\n",
    "\n",
    "        for i in range(1,n):\n",
    "            res[i] = left * nums[i-1]\n",
    "            left = left * nums[i-1]\n",
    "\n",
    "        for i in range(n-1,-1,-1):\n",
    "            res[i] = res[i] * right\n",
    "            right = right * nums[i]\n",
    "\n",
    "        return res"
   ]
  },
  {
   "attachments": {},
   "cell_type": "markdown",
   "metadata": {},
   "source": [
    "(4) 39. Combination Sum"
   ]
  },
  {
   "attachments": {},
   "cell_type": "markdown",
   "metadata": {},
   "source": [
    "(5) 56. Merge Intervals"
   ]
  },
  {
   "cell_type": "code",
   "execution_count": null,
   "metadata": {},
   "outputs": [],
   "source": [
    "class Solution:\n",
    "    def merge(self, intervals: List[List[int]]) -> List[List[int]]:\n",
    "\n",
    "        if len(intervals)==0:\n",
    "            return intervals\n",
    "\n",
    "        intervals = sorted(intervals)\n",
    "        res = []\n",
    "\n",
    "        for i in intervals:\n",
    "            if not res or i[0] > res[-1][1]:\n",
    "                res.append(i)\n",
    "            else:\n",
    "                res[-1][1] = max(i[1],res[-1][1])\n",
    "        return res"
   ]
  },
  {
   "attachments": {},
   "cell_type": "markdown",
   "metadata": {},
   "source": [
    "(6) 75. Sort Colors"
   ]
  },
  {
   "cell_type": "code",
   "execution_count": null,
   "metadata": {},
   "outputs": [],
   "source": [
    "class Solution:\n",
    "    def sortColors(self, nums: List[int]) -> None:\n",
    "        \"\"\"\n",
    "        Do not return anything, modify nums in-place instead.\n",
    "        \"\"\"\n",
    "        i=0\n",
    "        n=len(nums)\n",
    "        while i+1<n :\n",
    "            if nums[i]>nums[i+1]:\n",
    "                nums[i+1] , nums[i] = nums[i] , nums[i+1]\n",
    "                if i>0:\n",
    "                    i+=-1\n",
    "            else:\n",
    "                i+=1"
   ]
  },
  {
   "attachments": {},
   "cell_type": "markdown",
   "metadata": {},
   "source": [
    "(7) 11. Container With Most Water"
   ]
  },
  {
   "cell_type": "code",
   "execution_count": 545,
   "metadata": {},
   "outputs": [],
   "source": [
    "class Solution:\n",
    "    '''\n",
    "    超時\n",
    "    '''\n",
    "    def maxArea(self, height: List[int]) -> int:\n",
    "\n",
    "        big_area=0\n",
    "        w = len(height)-1\n",
    "        for index1 , h1 in enumerate(height):\n",
    "            point_h = 0\n",
    "            for index2 , h2 in enumerate(height[::-1]):\n",
    "                if (index1+index2)>=w:\n",
    "                    continue\n",
    "                if h2>point_h:\n",
    "                    big_area=max(big_area,min(h1,h2)*abs(index1-abs(w-index2)))\n",
    "                    point_h=h2\n",
    "        \n",
    "        return big_area"
   ]
  },
  {
   "cell_type": "code",
   "execution_count": 552,
   "metadata": {},
   "outputs": [],
   "source": [
    "class Solution:\n",
    "    def maxArea(self, height: List[int]) -> int:\n",
    "        '''\n",
    "        使得低直線的高度盡可能高\n",
    "        '''\n",
    "        left=0\n",
    "        right = len(height)-1\n",
    "        big_area=0\n",
    "\n",
    "        while left<right:\n",
    "            area = min(height[left], height[right]) * (right-left)\n",
    "            big_area = max(big_area,area)\n",
    "\n",
    "            if height[left]<height[right]:\n",
    "                left+=1\n",
    "            else:\n",
    "                right-=1\n",
    "\n",
    "        return big_area\n"
   ]
  }
 ],
 "metadata": {
  "kernelspec": {
   "display_name": "leetcode",
   "language": "python",
   "name": "python3"
  },
  "language_info": {
   "codemirror_mode": {
    "name": "ipython",
    "version": 3
   },
   "file_extension": ".py",
   "mimetype": "text/x-python",
   "name": "python",
   "nbconvert_exporter": "python",
   "pygments_lexer": "ipython3",
   "version": "3.10.10"
  },
  "orig_nbformat": 4
 },
 "nbformat": 4,
 "nbformat_minor": 2
}
