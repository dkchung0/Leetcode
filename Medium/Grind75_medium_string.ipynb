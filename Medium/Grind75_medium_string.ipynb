{
 "cells": [
  {
   "attachments": {},
   "cell_type": "markdown",
   "metadata": {},
   "source": [
    "# String\n",
    "\n",
    "- Regular expression\n",
    "- Hash table\n",
    "- Manacher's Algorithm"
   ]
  },
  {
   "cell_type": "code",
   "execution_count": 306,
   "metadata": {},
   "outputs": [],
   "source": [
    "from typing import List\n",
    "from typing import Optional\n",
    "import re\n",
    "import collections"
   ]
  },
  {
   "attachments": {},
   "cell_type": "markdown",
   "metadata": {},
   "source": [
    "# 2023/5/14"
   ]
  },
  {
   "attachments": {},
   "cell_type": "markdown",
   "metadata": {},
   "source": [
    "(1) 3. Longest Substring Without Repeating Characters"
   ]
  },
  {
   "cell_type": "code",
   "execution_count": null,
   "metadata": {},
   "outputs": [],
   "source": [
    "class Solution:\n",
    "    def lengthOfLongestSubstring(self, s: str) -> int:\n",
    "\n",
    "        sub_string = \"\"\n",
    "        example= \"\"\n",
    "        for i in range(len(s)):\n",
    "            \n",
    "            if s[i] not in example:\n",
    "                example += s[i]\n",
    "            else:\n",
    "                example = example[example.index(s[i])+1:] + s[i]\n",
    "\n",
    "            if len(example) > len(sub_string):\n",
    "                    sub_string = example\n",
    "\n",
    "        \n",
    "        return len(sub_string)\n",
    "            "
   ]
  },
  {
   "attachments": {},
   "cell_type": "markdown",
   "metadata": {},
   "source": [
    "(2) 8. String to Integer (atoi)"
   ]
  },
  {
   "cell_type": "code",
   "execution_count": 158,
   "metadata": {},
   "outputs": [],
   "source": [
    "class Solution:\n",
    "    def myAtoi(self, s: str) -> int:\n",
    "\n",
    "        s = s.strip()\n",
    "\n",
    "        if len(s)==0 or s==\"+\"  or s==\"-\" or re.search(r'[\\-\\+0-9]+',s[0])==None :\n",
    "            return 0\n",
    "\n",
    "        try:\n",
    "            number = int(re.search(r'[\\-\\+]?[\\D]*[0-9]+',s).group())\n",
    "        except:\n",
    "            number = 0\n",
    "\n",
    "        return max(min(number , 2**31-1), -2**31)"
   ]
  },
  {
   "attachments": {},
   "cell_type": "markdown",
   "metadata": {},
   "source": [
    "(3) 5. Longest Palindromic Substring"
   ]
  },
  {
   "cell_type": "code",
   "execution_count": 283,
   "metadata": {},
   "outputs": [],
   "source": [
    "class Solution:\n",
    "    '''\n",
    "    時間複雜度:O(n^2) 太大 \n",
    "    '''\n",
    "    def longestPalindrome(self, s: str) -> str:\n",
    "\n",
    "        n = len(s) \n",
    "        if n<=1:\n",
    "            return s\n",
    "\n",
    "        ans_ = []\n",
    "        \n",
    "        for left in range(n):\n",
    "            for right in range(n-1,-1,-1):\n",
    "                if left==right:\n",
    "                    continue\n",
    "                if s[left]==s[right] :\n",
    "                    ans=s[left:right+1]\n",
    "                    if ans == ans[::-1]:\n",
    "                        ans_.append(ans)\n",
    "        \n",
    "        ans_.append(s[0])\n",
    "\n",
    "        return max(ans_, key=len)"
   ]
  },
  {
   "cell_type": "code",
   "execution_count": 284,
   "metadata": {},
   "outputs": [],
   "source": [
    "class Solution:\n",
    "    '''\n",
    "    chatgpt使用Manacher's Algorithm\n",
    "    時間複雜度能達到O(n)\n",
    "    '''\n",
    "    def longestPalindrome(self, s: str) -> str:\n",
    "        # 預處理字符串\n",
    "        T = '#'.join('^{}$'.format(s))\n",
    "\n",
    "        n = len(T)\n",
    "        p = [0] * n\n",
    "        center, right = 0, 0\n",
    "\n",
    "        for i in range(1, n-1):\n",
    "            if i < right:\n",
    "                p[i] = min(right - i, p[2*center - i])\n",
    "            while T[i+p[i]+1] == T[i-p[i]-1]:\n",
    "                p[i] += 1\n",
    "            if i + p[i] > right:\n",
    "                center, right = i, i + p[i]\n",
    "\n",
    "        # 找出最長的回文子串\n",
    "        max_len, center_idx = max((p[i], i) for i in range(1, n-1))\n",
    "        start = (center_idx - max_len) // 2\n",
    "\n",
    "        return s[start:start+max_len]"
   ]
  },
  {
   "attachments": {},
   "cell_type": "markdown",
   "metadata": {},
   "source": [
    "(4) 438. Find All Anagrams in a String"
   ]
  },
  {
   "cell_type": "code",
   "execution_count": 333,
   "metadata": {},
   "outputs": [],
   "source": [
    "class Solution:\n",
    "    def findAnagrams(self, s: str, p: str) -> List[int]:\n",
    "\n",
    "        n1=len(s)\n",
    "        n2=len(p)\n",
    "\n",
    "        freq_p = collections.Counter(p)\n",
    "        freq_s = collections.Counter(s[:n2])\n",
    "\n",
    "        ans = []\n",
    "\n",
    "        if freq_p == freq_s:\n",
    "            ans.append(0)\n",
    "\n",
    "\n",
    "        for i in range(n2,n1):\n",
    "\n",
    "            freq_s[s[i]]+=1\n",
    "            freq_s[s[i-n2]]-=1\n",
    "            \n",
    "            if freq_p==freq_s:\n",
    "                ans.append(i-n2+1)\n",
    "\n",
    "\n",
    "        return ans"
   ]
  }
 ],
 "metadata": {
  "kernelspec": {
   "display_name": "leetcode",
   "language": "python",
   "name": "python3"
  },
  "language_info": {
   "codemirror_mode": {
    "name": "ipython",
    "version": 3
   },
   "file_extension": ".py",
   "mimetype": "text/x-python",
   "name": "python",
   "nbconvert_exporter": "python",
   "pygments_lexer": "ipython3",
   "version": "3.10.10"
  },
  "orig_nbformat": 4
 },
 "nbformat": 4,
 "nbformat_minor": 2
}
