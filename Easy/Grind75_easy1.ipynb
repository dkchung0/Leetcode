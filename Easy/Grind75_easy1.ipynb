{
 "cells": [
  {
   "cell_type": "code",
   "execution_count": 1,
   "metadata": {},
   "outputs": [],
   "source": [
    "from typing import List\n",
    "from typing import Optional"
   ]
  },
  {
   "attachments": {},
   "cell_type": "markdown",
   "metadata": {},
   "source": [
    "# 2023/5/12"
   ]
  },
  {
   "attachments": {},
   "cell_type": "markdown",
   "metadata": {},
   "source": [
    "(1) 232. Implement Queue using Stacks"
   ]
  },
  {
   "cell_type": "code",
   "execution_count": 6,
   "metadata": {},
   "outputs": [],
   "source": [
    "class MyQueue:\n",
    "\n",
    "    def __init__(self):\n",
    "        self.stack1 = []\n",
    "        self.stack2 = []\n",
    "\n",
    "    def push(self, x: int) -> None:\n",
    "\n",
    "        while self.stack1:\n",
    "            self.stack2.append(self.stack1.pop())\n",
    "\n",
    "        self.stack1.append(x)\n",
    "            \n",
    "        while self.stack2:\n",
    "            self.stack1.append(self.stack2.pop())\n",
    "            \n",
    "\n",
    "    def pop(self) -> int:\n",
    "        return self.stack1.pop()\n",
    "        \n",
    "    def peek(self) -> int:\n",
    "        return self.stack1[-1]\n",
    "        \n",
    "    def empty(self) -> bool:\n",
    "        return len(self.stack1)==0"
   ]
  },
  {
   "attachments": {},
   "cell_type": "markdown",
   "metadata": {},
   "source": [
    "(2) 278. First Bad Version"
   ]
  },
  {
   "cell_type": "code",
   "execution_count": 7,
   "metadata": {},
   "outputs": [],
   "source": [
    "class Solution:\n",
    "    def firstBadVersion(self, n: int) -> int:\n",
    "\n",
    "\n",
    "        left, right = 1, n\n",
    "        while left < right:\n",
    "            mid = left + (right - left) // 2\n",
    "            if isBadVersion(mid):\n",
    "                right = mid\n",
    "            else:\n",
    "                left = mid + 1\n",
    "        return left\n",
    "                "
   ]
  },
  {
   "attachments": {},
   "cell_type": "markdown",
   "metadata": {},
   "source": [
    "(3) 383. Ransom Note"
   ]
  },
  {
   "cell_type": "code",
   "execution_count": 8,
   "metadata": {},
   "outputs": [],
   "source": [
    "class Solution:\n",
    "    def canConstruct(self, ransomNote: str, magazine: str) -> bool:\n",
    "        \n",
    "        for i in ransomNote:\n",
    "            if magazine == magazine.replace(i,\"\",1) :\n",
    "                return False\n",
    "\n",
    "            magazine = magazine.replace(i,\"\",1)\n",
    "        \n",
    "        return  True"
   ]
  },
  {
   "attachments": {},
   "cell_type": "markdown",
   "metadata": {},
   "source": [
    "(4) 70. Climbing Stairs"
   ]
  },
  {
   "cell_type": "code",
   "execution_count": 9,
   "metadata": {},
   "outputs": [],
   "source": [
    "class Solution:\n",
    "    def climbStairs(self, n: int) -> int:\n",
    "\n",
    "        if n <= 2:\n",
    "            return n\n",
    "            \n",
    "        ans = [0 for i in range(n+1)]\n",
    "        ans[1] = 1\n",
    "        ans[2] = 2\n",
    "        for i in range(3, n+1):\n",
    "            ans[i] = ans[i-1] + ans[i-2]\n",
    "        return ans[n]"
   ]
  },
  {
   "attachments": {},
   "cell_type": "markdown",
   "metadata": {},
   "source": [
    "(5) 409. Longest Palindrome"
   ]
  },
  {
   "cell_type": "code",
   "execution_count": 10,
   "metadata": {},
   "outputs": [],
   "source": [
    "class Solution:\n",
    "    def longestPalindrome(self, s: str) -> int:\n",
    "        \n",
    "        ans = set()\n",
    "        count = 0\n",
    "        \n",
    "        for i in s:\n",
    "            if i in ans:\n",
    "                count+=2\n",
    "                ans.remove(i)\n",
    "            else:\n",
    "                ans.add(i)\n",
    "        \n",
    "        if ans:\n",
    "            count+=1\n",
    "\n",
    "        return count "
   ]
  },
  {
   "attachments": {},
   "cell_type": "markdown",
   "metadata": {},
   "source": [
    "(6) 206. Reverse Linked List"
   ]
  },
  {
   "cell_type": "code",
   "execution_count": 11,
   "metadata": {},
   "outputs": [],
   "source": [
    "class ListNode:\n",
    "    def __init__(self, val=0, next=None):\n",
    "        self.val = val\n",
    "        self.next = next\n",
    "class Solution:\n",
    "    def reverseList(self, head: ListNode) -> ListNode:\n",
    "\n",
    "        prev = None\n",
    "\n",
    "        while head:\n",
    "            # 記錄下一個節點\n",
    "            next_node = head.next            \n",
    "            head.next = prev\n",
    "            prev = head\n",
    "            # 更新當前節點\n",
    "            head = next_node\n",
    "\n",
    "        return prev"
   ]
  },
  {
   "attachments": {},
   "cell_type": "markdown",
   "metadata": {},
   "source": [
    "(7) 169. Majority Element"
   ]
  },
  {
   "cell_type": "code",
   "execution_count": 12,
   "metadata": {},
   "outputs": [],
   "source": [
    "class Solution:\n",
    "    def majorityElement(self, nums: List[int]) -> int:\n",
    "\n",
    "        counter={}\n",
    "\n",
    "        for i in nums:\n",
    "            if i not in counter:\n",
    "                counter[i]=1\n",
    "            else:\n",
    "                counter[i]+=1\n",
    "        \n",
    "        return max(counter,key=lambda x : counter[x])"
   ]
  },
  {
   "attachments": {},
   "cell_type": "markdown",
   "metadata": {},
   "source": [
    "(8) 67. Add Binary"
   ]
  },
  {
   "cell_type": "code",
   "execution_count": 13,
   "metadata": {},
   "outputs": [],
   "source": [
    "class Solution:\n",
    "    def addBinary(self, a: str, b: str) -> str:\n",
    "\n",
    "        ans = str(int(a)+int(b))\n",
    "        n = len(ans)\n",
    "        for i in range(n):\n",
    "            if ans[-(i+1)]==\"2\" or ans[-(i+1)]==\"3\" :\n",
    "                ans = int(ans)+8*10**(i)\n",
    "                ans = str(ans)\n",
    "\n",
    "        return ans"
   ]
  },
  {
   "attachments": {},
   "cell_type": "markdown",
   "metadata": {},
   "source": [
    "(9) 543. Diameter of Binary Tree"
   ]
  },
  {
   "cell_type": "code",
   "execution_count": 14,
   "metadata": {},
   "outputs": [],
   "source": [
    "class TreeNode:\n",
    "    def __init__(self, val=0, left=None, right=None):\n",
    "        self.val = val\n",
    "        self.left = left\n",
    "        self.right = right\n",
    "class Solution:\n",
    "\n",
    "    def __init__(self):\n",
    "        self.ans=0\n",
    "\n",
    "    def height(self,root: Optional[TreeNode]):\n",
    "        \n",
    "        if not root: \n",
    "            return 0\n",
    "\n",
    "        left_height = self.height(root.left)\n",
    "        right_height = self.height(root.right)\n",
    "        # 維護所有路經中的最大直徑\n",
    "        self.ans = max(self.ans, left_height + right_height)\n",
    "\n",
    "        return max(left_height,right_height,)+1\n",
    "    \n",
    "    def diameterOfBinaryTree(self, root: Optional[TreeNode]) -> int:\n",
    "        self.height(root)\n",
    "        return self.ans"
   ]
  },
  {
   "attachments": {},
   "cell_type": "markdown",
   "metadata": {},
   "source": [
    "(10) 876. Middle of the Linked List"
   ]
  },
  {
   "cell_type": "code",
   "execution_count": 15,
   "metadata": {},
   "outputs": [],
   "source": [
    "class ListNode:\n",
    "    def __init__(self, val=0, next=None):\n",
    "        self.val = val\n",
    "        self.next = next\n",
    "class Solution:\n",
    "    '''\n",
    "    快慢指針\n",
    "    '''\n",
    "    def middleNode(self, head: ListNode) -> ListNode:\n",
    "        fast = head\n",
    "        slow = head\n",
    "        while fast and fast.next:\n",
    "            slow = slow.next\n",
    "            fast = fast.next.next\n",
    "        return slow"
   ]
  },
  {
   "attachments": {},
   "cell_type": "markdown",
   "metadata": {},
   "source": [
    "(11) 104. Maximum Depth of Binary Tree"
   ]
  },
  {
   "cell_type": "code",
   "execution_count": 16,
   "metadata": {},
   "outputs": [],
   "source": [
    "class TreeNode:\n",
    "    def __init__(self, val=0, left=None, right=None):\n",
    "        self.val = val\n",
    "        self.left = left\n",
    "        self.right = right\n",
    "class Solution:\n",
    "    def maxDepth(self, root: Optional[TreeNode]) -> int:\n",
    "\n",
    "        if not root: \n",
    "            return 0\n",
    "\n",
    "        return max(self.maxDepth(root.left),self.maxDepth(root.right))+1"
   ]
  },
  {
   "attachments": {},
   "cell_type": "markdown",
   "metadata": {},
   "source": [
    "(12) 217. Contains Duplicate"
   ]
  },
  {
   "cell_type": "code",
   "execution_count": 17,
   "metadata": {},
   "outputs": [],
   "source": [
    "class Solution:\n",
    "    def containsDuplicate(self, nums: List[int]) -> bool:\n",
    "        nums.sort()\n",
    "        for i in range(1, len(nums)):\n",
    "            if nums[i - 1] == nums[i]:\n",
    "                return True\n",
    "        return False"
   ]
  }
 ],
 "metadata": {
  "kernelspec": {
   "display_name": "leetcode",
   "language": "python",
   "name": "python3"
  },
  "language_info": {
   "codemirror_mode": {
    "name": "ipython",
    "version": 3
   },
   "file_extension": ".py",
   "mimetype": "text/x-python",
   "name": "python",
   "nbconvert_exporter": "python",
   "pygments_lexer": "ipython3",
   "version": "3.10.10"
  },
  "orig_nbformat": 4
 },
 "nbformat": 4,
 "nbformat_minor": 2
}
