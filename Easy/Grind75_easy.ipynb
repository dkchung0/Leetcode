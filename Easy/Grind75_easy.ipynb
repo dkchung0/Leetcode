{
 "cells": [
  {
   "cell_type": "code",
   "execution_count": 6,
   "metadata": {},
   "outputs": [],
   "source": [
    "from typing import List\n",
    "from typing import Optional"
   ]
  },
  {
   "attachments": {},
   "cell_type": "markdown",
   "metadata": {},
   "source": [
    "# 2023/5/5"
   ]
  },
  {
   "attachments": {},
   "cell_type": "markdown",
   "metadata": {},
   "source": [
    "(1) 1. Two Sum "
   ]
  },
  {
   "cell_type": "code",
   "execution_count": 2,
   "metadata": {},
   "outputs": [],
   "source": [
    "class Solution:\n",
    "    '''\n",
    "    Using hash table\n",
    "    '''\n",
    "    def twoSum(self, nums: List[int], target: int) -> List[int]:\n",
    "        \n",
    "        hash = dict() \n",
    "        for i in range(len(nums)):\n",
    "            if target - nums[i] in hash:\n",
    "                \n",
    "                return [i,hash[target - nums[i]]]\n",
    "            \n",
    "            else :\n",
    "                hash[nums[i]] = i\n",
    "                \n",
    "        return -1"
   ]
  },
  {
   "attachments": {},
   "cell_type": "markdown",
   "metadata": {},
   "source": [
    "(2) 383. Ransom Note"
   ]
  },
  {
   "cell_type": "code",
   "execution_count": 34,
   "metadata": {},
   "outputs": [],
   "source": [
    "class Solution:\n",
    "    def canConstruct(self, ransomNote: str, magazine: str) -> bool:\n",
    "        \n",
    "        for i in ransomNote:\n",
    "            if magazine == magazine.replace(i,\"\",1) :\n",
    "                return False\n",
    "\n",
    "            magazine = magazine.replace(i,\"\",1)\n",
    "        \n",
    "        return  True\n",
    "       "
   ]
  },
  {
   "attachments": {},
   "cell_type": "markdown",
   "metadata": {},
   "source": [
    "(3) 21. Merge Two Sorted Lists"
   ]
  },
  {
   "cell_type": "code",
   "execution_count": null,
   "metadata": {},
   "outputs": [],
   "source": [
    "#Definition for singly-linked list.\n",
    "class ListNode:\n",
    "    def __init__(self, val=0, next=None):\n",
    "        self.val = val\n",
    "        self.next = next"
   ]
  },
  {
   "cell_type": "code",
   "execution_count": null,
   "metadata": {},
   "outputs": [],
   "source": [
    "class Solution:\n",
    "    def mergeTwoLists(self, list1: Optional[ListNode], list2: Optional[ListNode]) -> Optional[ListNode]:\n",
    "        dummy_head = ListNode(-1)\n",
    "\n",
    "        curr = dummy_head\n",
    "        while list1 and list2:\n",
    "            if list1.val <= list2.val:\n",
    "                curr.next = list1\n",
    "                list1 = list1.next\n",
    "            else:\n",
    "                curr.next = list2\n",
    "                list2 = list2.next\n",
    "            curr = curr.next\n",
    "\n",
    "        curr.next = list1 if list1 is not None else list2\n",
    "\n",
    "        return dummy_head.next"
   ]
  },
  {
   "attachments": {},
   "cell_type": "markdown",
   "metadata": {},
   "source": [
    "# 2023/5/10"
   ]
  },
  {
   "attachments": {},
   "cell_type": "markdown",
   "metadata": {},
   "source": [
    "(4) 121. Best Time to Buy and Sell Stock"
   ]
  },
  {
   "cell_type": "code",
   "execution_count": 43,
   "metadata": {},
   "outputs": [],
   "source": [
    "class Solution:\n",
    "    def maxProfit(self, prices: List[int]) -> int:\n",
    "        \n",
    "        point = prices[0]\n",
    "        ans = 0\n",
    "        \n",
    "        for i in prices[1:]:\n",
    "            if i < point: \n",
    "                point=i\n",
    "            else :\n",
    "                if ans < i-point:\n",
    "                    ans=i-point\n",
    "                            \n",
    "        return ans"
   ]
  },
  {
   "attachments": {},
   "cell_type": "markdown",
   "metadata": {},
   "source": [
    "(5) 125. Valid Palindrome"
   ]
  },
  {
   "cell_type": "code",
   "execution_count": 71,
   "metadata": {},
   "outputs": [],
   "source": [
    "import re\n",
    "\n",
    "class Solution:\n",
    "    def isPalindrome(self, s: str) -> bool:\n",
    "        \n",
    "        string = re.sub('[^a-z0-9]','',s.lower())\n",
    "        \n",
    "        return string == string[::-1]"
   ]
  },
  {
   "attachments": {},
   "cell_type": "markdown",
   "metadata": {},
   "source": [
    "(6) 226. Invert Binary Tree"
   ]
  },
  {
   "cell_type": "code",
   "execution_count": 94,
   "metadata": {},
   "outputs": [],
   "source": [
    "class TreeNode:\n",
    "    def __init__(self, val=0, left=None, right=None):\n",
    "        self.val = val\n",
    "        self.left = left\n",
    "        self.right = right\n",
    "        \n",
    "class Solution:\n",
    "    def invertTree(self, root: Optional[TreeNode]) -> Optional[TreeNode]:\n",
    "        \n",
    "        if not root: \n",
    "            return None\n",
    "        \n",
    "        left = self.invertTree(root.left)\n",
    "        right = self.invertTree(root.right)\n",
    "        \n",
    "        root.left = right\n",
    "        root.right = left\n",
    "        \n",
    "        return root"
   ]
  },
  {
   "attachments": {},
   "cell_type": "markdown",
   "metadata": {},
   "source": [
    "(7) 242. Valid Anagram"
   ]
  },
  {
   "cell_type": "code",
   "execution_count": 115,
   "metadata": {},
   "outputs": [],
   "source": [
    "class Solution:\n",
    "    def isAnagram(self, s: str, t: str) -> bool:\n",
    "\n",
    "        if len(s)!=len(t):\n",
    "            return False\n",
    "\n",
    "        return sorted(s) == sorted(t)"
   ]
  },
  {
   "cell_type": "code",
   "execution_count": null,
   "metadata": {},
   "outputs": [],
   "source": [
    "class Solution:\n",
    "    def isAnagram(self, s: str, t: str) -> bool:\n",
    "        if len(s)!=len(t):\n",
    "            return False\n",
    "        d1={}\n",
    "        d2={}\n",
    "        \n",
    "        for i in range(len(s)):\n",
    "            if s[i] in d1:\n",
    "                d1[s[i]]+=1\n",
    "            else:\n",
    "                d1[s[i]]=1\n",
    "                \n",
    "            if t[i] in d2:\n",
    "                d2[t[i]]+=1\n",
    "            else:\n",
    "                d2[t[i]]=1\n",
    "                \n",
    "        for i in d1:\n",
    "            if i not in d2:\n",
    "                return False\n",
    "            else:\n",
    "                if d1[i]!=d2[i]:\n",
    "                    return False\n",
    "                \n",
    "        return True"
   ]
  },
  {
   "attachments": {},
   "cell_type": "markdown",
   "metadata": {},
   "source": [
    "(8) 704. Binary Search"
   ]
  },
  {
   "cell_type": "code",
   "execution_count": null,
   "metadata": {},
   "outputs": [],
   "source": [
    "class Solution:\n",
    "    def search(self, nums: List[int], target: int) -> int:\n",
    "\n",
    "        left , right = 0 , len(nums)-1\n",
    "\n",
    "        while left <= right :\n",
    "            mid = (left+right)//2\n",
    "            \n",
    "            if target > nums[mid]:\n",
    "                left=mid+1\n",
    "            elif target < nums[mid]:\n",
    "                right=mid-1\n",
    "            elif target == nums[mid]:\n",
    "                return mid\n",
    "        \n",
    "        return -1\n",
    "            "
   ]
  },
  {
   "attachments": {},
   "cell_type": "markdown",
   "metadata": {},
   "source": [
    "(9) 733. Flood Fill"
   ]
  },
  {
   "cell_type": "code",
   "execution_count": 181,
   "metadata": {},
   "outputs": [],
   "source": [
    "class Solution:\n",
    "    def floodFill(self, image: List[List[int]], sr: int, sc: int, color: int) -> List[List[int]]:\n",
    "        init_color = image[sr][sc]\n",
    "        if color == init_color:\n",
    "            return image\n",
    "        \n",
    "        def dfs(start_sr,start_sc):\n",
    "            \n",
    "            if start_sr < 0 or start_sc < 0:\n",
    "                return None\n",
    "\n",
    "            if image[start_sr][start_sc] == init_color:\n",
    "                image[start_sr][start_sc] = color         \n",
    "                try:    \n",
    "                    if image[start_sr+1][start_sc] == init_color:\n",
    "                        dfs(start_sr+1,start_sc)\n",
    "                except:\n",
    "                    pass\n",
    "                try: \n",
    "                    if image[start_sr-1][start_sc] == init_color:\n",
    "                        dfs(start_sr-1,start_sc)\n",
    "                except:\n",
    "                    pass\n",
    "                try:\n",
    "                    if image[start_sr][start_sc+1] == init_color:\n",
    "                        dfs(start_sr,start_sc+1)\n",
    "                except:\n",
    "                    pass\n",
    "                try:    \n",
    "                    if image[start_sr][start_sc-1] == init_color:\n",
    "                        dfs(start_sr,start_sc-1)\n",
    "                except:\n",
    "                    pass\n",
    "                \n",
    "        \n",
    "        dfs(sr,sc)\n",
    "        \n",
    "        return image"
   ]
  },
  {
   "attachments": {},
   "cell_type": "markdown",
   "metadata": {},
   "source": [
    "# 2023/5/11"
   ]
  },
  {
   "attachments": {},
   "cell_type": "markdown",
   "metadata": {},
   "source": [
    "(10) 235. Lowest Common Ancestor of a Binary Search Tree"
   ]
  },
  {
   "cell_type": "code",
   "execution_count": 1,
   "metadata": {},
   "outputs": [],
   "source": [
    "class TreeNode:\n",
    "    def __init__(self, val=0, left=None, right=None):\n",
    "        self.val = val\n",
    "        self.left = left\n",
    "        self.right = right\n",
    "\n",
    "class Solution:\n",
    "    '''\n",
    "    遞迴解\n",
    "    '''\n",
    "    def lowestCommonAncestor(self, root: 'TreeNode', p: 'TreeNode', q: 'TreeNode') -> 'TreeNode':\n",
    "\n",
    "        if not root: \n",
    "            return None\n",
    "        \n",
    "        ancestor = root\n",
    "        \n",
    "        if p.val < ancestor.val  and  q.val < ancestor.val:\n",
    "            # 遞迴的結果也要return\n",
    "            return self.lowestCommonAncestor(ancestor.left,p,q)\n",
    "        elif p.val > ancestor.val  and  q.val > ancestor.val:\n",
    "            return self.lowestCommonAncestor(ancestor.right,p,q)\n",
    "        else:\n",
    "            return ancestor \n",
    "        "
   ]
  },
  {
   "cell_type": "code",
   "execution_count": null,
   "metadata": {},
   "outputs": [],
   "source": [
    "class Solution:\n",
    "    '''\n",
    "    迴圈解\n",
    "    '''\n",
    "    def lowestCommonAncestor(self, root: 'TreeNode', p: 'TreeNode', q: 'TreeNode') -> 'TreeNode':\n",
    "        ancestor = root\n",
    "        while True:\n",
    "            if ancestor.val > p.val and ancestor.val > q.val:\n",
    "                ancestor = ancestor.left\n",
    "            elif ancestor.val < p.val and ancestor.val < q.val:\n",
    "                ancestor = ancestor.right\n",
    "            else:\n",
    "                break\n",
    "        return ancestor"
   ]
  },
  {
   "attachments": {},
   "cell_type": "markdown",
   "metadata": {},
   "source": [
    "(11) 110. Balanced Binary Tree"
   ]
  },
  {
   "cell_type": "code",
   "execution_count": 139,
   "metadata": {},
   "outputs": [],
   "source": [
    "root = TreeNode(1)\n",
    "root.left = TreeNode(2)\n",
    "root.right = TreeNode(2)\n",
    "root.left.left = TreeNode(3)\n",
    "#root.left.right = TreeNode(3)\n",
    "root.left.left.left = TreeNode(4)\n",
    "root.left.left.right = TreeNode(4)"
   ]
  },
  {
   "cell_type": "code",
   "execution_count": 118,
   "metadata": {},
   "outputs": [],
   "source": [
    "root = TreeNode(3)\n",
    "root.left = TreeNode(9)\n",
    "root.right = TreeNode(20)\n",
    "root.right.left = TreeNode(15)\n",
    "root.right.right = TreeNode(7)\n"
   ]
  },
  {
   "cell_type": "code",
   "execution_count": 143,
   "metadata": {},
   "outputs": [],
   "source": [
    "class TreeNode:\n",
    "    def __init__(self, val=0, left=None, right=None):\n",
    "        self.val = val\n",
    "        self.left = left\n",
    "        self.right = right\n",
    "        \n",
    "class Solution:\n",
    "    def isBalanced(self, root: Optional[TreeNode]) -> bool:\n",
    "    \n",
    "\n",
    "        def height(root: Optional[TreeNode]):\n",
    "            \n",
    "            if not root: \n",
    "                return 0\n",
    "\n",
    "            left_height = height(root.left)\n",
    "            right_height = height(root.right)\n",
    "\n",
    "            if abs(left_height-right_height)>1 or left_height<0 or right_height<0:\n",
    "                return -1\n",
    "            else:\n",
    "                return max(left_height,right_height)+1\n",
    "        \n",
    "\n",
    "        return height(root) >=0\n",
    "        "
   ]
  },
  {
   "attachments": {},
   "cell_type": "markdown",
   "metadata": {},
   "source": [
    "(12) 141. Linked List Cycle"
   ]
  },
  {
   "cell_type": "code",
   "execution_count": null,
   "metadata": {},
   "outputs": [],
   "source": [
    "class ListNode:\n",
    "    def __init__(self, x):\n",
    "        self.val = x\n",
    "        self.next = None\n",
    "\n",
    "class Solution:\n",
    "    def hasCycle(self, head: Optional[ListNode]) -> bool:\n",
    "\n",
    "        if head == None or head.next == None:\n",
    "            return False\n",
    "\n",
    "        slow = head\n",
    "        fast = head.next\n",
    "\n",
    "        while slow != fast:\n",
    "\n",
    "            if fast == None or fast.next == None :\n",
    "                return False\n",
    "            \n",
    "            slow = slow.next\n",
    "            #next space is return None \n",
    "            fast = fast.next.next\n",
    "\n",
    "        \n",
    "        return True"
   ]
  }
 ],
 "metadata": {
  "kernelspec": {
   "display_name": "leetcode",
   "language": "python",
   "name": "python3"
  },
  "language_info": {
   "codemirror_mode": {
    "name": "ipython",
    "version": 3
   },
   "file_extension": ".py",
   "mimetype": "text/x-python",
   "name": "python",
   "nbconvert_exporter": "python",
   "pygments_lexer": "ipython3",
   "version": "3.10.10"
  },
  "orig_nbformat": 4
 },
 "nbformat": 4,
 "nbformat_minor": 2
}
