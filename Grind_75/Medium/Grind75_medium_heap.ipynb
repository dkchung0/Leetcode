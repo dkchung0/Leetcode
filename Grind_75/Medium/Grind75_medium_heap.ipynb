{
 "cells": [
  {
   "attachments": {},
   "cell_type": "markdown",
   "metadata": {},
   "source": [
    "# Heap"
   ]
  },
  {
   "cell_type": "code",
   "execution_count": 254,
   "metadata": {},
   "outputs": [],
   "source": [
    "from collections import deque\n",
    "from collections import defaultdict\n",
    "from typing import List\n",
    "import heapq"
   ]
  },
  {
   "attachments": {},
   "cell_type": "markdown",
   "metadata": {},
   "source": [
    "# 2023/7/7"
   ]
  },
  {
   "attachments": {},
   "cell_type": "markdown",
   "metadata": {},
   "source": [
    "(1) 973. K Closest Points to Origin "
   ]
  },
  {
   "cell_type": "code",
   "execution_count": 251,
   "metadata": {},
   "outputs": [],
   "source": [
    "class Solution:\n",
    "    '''\n",
    "    The time complexity of using hash table is too high\n",
    "    '''\n",
    "    def kClosest(self, points: List[List[int]], k: int) -> List[List[int]]:\n",
    "\n",
    "        output = defaultdict(list)\n",
    "        \n",
    "        for i in points:\n",
    "            distance = i[0]**2+i[1]**2\n",
    "\n",
    "            if k>0:\n",
    "                output[distance].append(i)\n",
    "                k-=1\n",
    "            else:\n",
    "                if distance < max(list(output.keys())):\n",
    "                    output.pop(max(list(output.keys())))\n",
    "                    output[distance].append(i)\n",
    "                \n",
    "        return [w for x in output.values() for w in x]"
   ]
  },
  {
   "cell_type": "code",
   "execution_count": 265,
   "metadata": {},
   "outputs": [],
   "source": [
    "class Solution:\n",
    "    def kClosest(self, points: List[List[int]], k: int) -> List[List[int]]:\n",
    "        \n",
    "        max_heap = []\n",
    "        for point in points:\n",
    "            distance = point[0] ** 2 + point[1] ** 2\n",
    "            \n",
    "            if len(max_heap) < k:\n",
    "                heapq.heappush(max_heap, (-distance, point))\n",
    "            else:\n",
    "                if distance < -max_heap[0][0]:\n",
    "                    # Take the smallest element from the heap\n",
    "                    heapq.heappop(max_heap)\n",
    "                    heapq.heappush(max_heap, (-distance, point))\n",
    "  \n",
    "        return [i[-1] for i in max_heap]\n",
    "            "
   ]
  },
  {
   "attachments": {},
   "cell_type": "markdown",
   "metadata": {},
   "source": [
    "# 2023/7/8"
   ]
  },
  {
   "attachments": {},
   "cell_type": "markdown",
   "metadata": {},
   "source": [
    "(2) 621. Task Scheduler"
   ]
  },
  {
   "cell_type": "code",
   "execution_count": null,
   "metadata": {},
   "outputs": [],
   "source": [
    "class Solution:\n",
    "    def leastInterval(self, tasks: List[str], n: int) -> int:\n",
    "\n",
    "        task_dict = {}\n",
    "        for t in tasks:\n",
    "            if t in task_dict.keys():\n",
    "                task_dict[t]+=1\n",
    "            else:\n",
    "                task_dict[t] = 1 \n",
    "                \n",
    "        k = max(task_dict.items(),key=lambda x : x[1])[1]\n",
    "        max_tasks_count = list(task_dict.values()).count(k) \n",
    "\n",
    "        if len(tasks) - k - max_tasks_count +1 <= n*(k-1):\n",
    "            return (n+1)*(k-1) + max_tasks_count\n",
    "        else :\n",
    "            return len(tasks)\n",
    "        "
   ]
  }
 ],
 "metadata": {
  "kernelspec": {
   "display_name": "leetcode",
   "language": "python",
   "name": "python3"
  },
  "language_info": {
   "codemirror_mode": {
    "name": "ipython",
    "version": 3
   },
   "file_extension": ".py",
   "mimetype": "text/x-python",
   "name": "python",
   "nbconvert_exporter": "python",
   "pygments_lexer": "ipython3",
   "version": "3.10.10"
  },
  "orig_nbformat": 4
 },
 "nbformat": 4,
 "nbformat_minor": 2
}
