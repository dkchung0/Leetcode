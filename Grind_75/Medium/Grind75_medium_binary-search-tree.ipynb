{
 "cells": [
  {
   "attachments": {},
   "cell_type": "markdown",
   "metadata": {},
   "source": [
    "# Binary Search Tree\n",
    "\n",
    "- 遞迴解但要設定好return\n",
    "- inorder在二元搜尋樹特性:由小到大排序"
   ]
  },
  {
   "cell_type": "code",
   "execution_count": 8,
   "metadata": {},
   "outputs": [],
   "source": [
    "from typing import List\n",
    "from typing import Optional\n",
    "from collections import defaultdict"
   ]
  },
  {
   "attachments": {},
   "cell_type": "markdown",
   "metadata": {},
   "source": [
    "# 2023/5/15"
   ]
  },
  {
   "attachments": {},
   "cell_type": "markdown",
   "metadata": {},
   "source": [
    "(1) 98. Validate Binary Search Tree"
   ]
  },
  {
   "cell_type": "code",
   "execution_count": 9,
   "metadata": {},
   "outputs": [],
   "source": [
    "class TreeNode:\n",
    "    def __init__(self, val=0, left=None, right=None):\n",
    "        self.val = val\n",
    "        self.left = left\n",
    "        self.right = right\n",
    "class Solution:\n",
    "    def isValidBST(self, root: Optional[TreeNode],min_val=-2**31-1,max_val=2**31) -> bool:\n",
    "        if not root:\n",
    "            return True \n",
    "\n",
    "        if root.val<= min_val or  root.val>=max_val:\n",
    "            return False\n",
    "\n",
    "        return self.isValidBST(root.left,min_val,root.val) and self.isValidBST(root.right,root.val,max_val)"
   ]
  },
  {
   "attachments": {},
   "cell_type": "markdown",
   "metadata": {},
   "source": [
    "(2) 230. Kth Smallest Element in a BST"
   ]
  },
  {
   "cell_type": "code",
   "execution_count": 10,
   "metadata": {},
   "outputs": [],
   "source": [
    "class TreeNode:\n",
    "    def __init__(self, val=0, left=None, right=None):\n",
    "        self.val = val\n",
    "        self.left = left\n",
    "        self.right = right\n",
    "class Solution:\n",
    "    '''\n",
    "    use inorder to slove,so stack is nice way\n",
    "    '''\n",
    "    def kthSmallest(self, root: Optional[TreeNode], k: int) -> int:\n",
    "\n",
    "        result = []\n",
    "        stack = []\n",
    "        node = root \n",
    "\n",
    "        while True:\n",
    "            while node:\n",
    "                stack.append(node)\n",
    "                node = node.left\n",
    "\n",
    "            pop_node=stack.pop()\n",
    "            result.append(pop_node.val)\n",
    "            node = pop_node.right\n",
    "\n",
    "            if result[k-1:]:\n",
    "                return result.pop()"
   ]
  }
 ],
 "metadata": {
  "kernelspec": {
   "display_name": "leetcode",
   "language": "python",
   "name": "python3"
  },
  "language_info": {
   "codemirror_mode": {
    "name": "ipython",
    "version": 3
   },
   "file_extension": ".py",
   "mimetype": "text/x-python",
   "name": "python",
   "nbconvert_exporter": "python",
   "pygments_lexer": "ipython3",
   "version": "3.10.10"
  },
  "orig_nbformat": 4
 },
 "nbformat": 4,
 "nbformat_minor": 2
}
