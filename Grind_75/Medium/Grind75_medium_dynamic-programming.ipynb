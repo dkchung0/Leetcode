{
 "cells": [
  {
   "attachments": {},
   "cell_type": "markdown",
   "metadata": {},
   "source": [
    "# Dynamic programming"
   ]
  },
  {
   "cell_type": "code",
   "execution_count": 3,
   "metadata": {},
   "outputs": [],
   "source": [
    "from collections import deque\n",
    "from collections import defaultdict\n",
    "from typing import List"
   ]
  },
  {
   "attachments": {},
   "cell_type": "markdown",
   "metadata": {},
   "source": [
    "# 2023/6/3"
   ]
  },
  {
   "attachments": {},
   "cell_type": "markdown",
   "metadata": {},
   "source": [
    "(1) 53. Maximum Subarray"
   ]
  },
  {
   "cell_type": "code",
   "execution_count": 129,
   "metadata": {},
   "outputs": [],
   "source": [
    "class Solution:\n",
    "    def maxSubArray(self, nums: List[int]) -> int:\n",
    "        largest_sum = float('-inf')\n",
    "        current_sum = 0\n",
    "\n",
    "        for num in nums:\n",
    "            current_sum += num\n",
    "\n",
    "            if current_sum > largest_sum:\n",
    "                largest_sum = current_sum\n",
    "\n",
    "            #As long as it is less than 0, adding any number will make it smaller\n",
    "            if current_sum < 0:\n",
    "                current_sum = 0\n",
    "\n",
    "        return largest_sum"
   ]
  },
  {
   "attachments": {},
   "cell_type": "markdown",
   "metadata": {},
   "source": [
    "# 2023/6/29"
   ]
  },
  {
   "attachments": {},
   "cell_type": "markdown",
   "metadata": {},
   "source": [
    "(2) 322. Coin Change"
   ]
  },
  {
   "cell_type": "code",
   "execution_count": 130,
   "metadata": {},
   "outputs": [],
   "source": [
    "class Solution:\n",
    "    '''\n",
    "    Dynamic Programming Bottom-Up\n",
    "    '''\n",
    "    def coinChange(self, coins: List[int], amount: int) -> int:\n",
    "\n",
    "        if amount == 0:\n",
    "            return 0 \n",
    "        \n",
    "        dp = [float('inf')] * (amount + 1)\n",
    "        dp[0] = 0 \n",
    "        \n",
    "        for i in range(1, amount + 1):\n",
    "            for coin in coins:\n",
    "                if coin<=i:\n",
    "                    dp[i] = min(dp[i-coin]+1,dp[i])\n",
    "                    \n",
    "        if dp[amount] == float('inf'):\n",
    "            return -1\n",
    "        else:\n",
    "            return dp[amount]\n",
    "        "
   ]
  },
  {
   "attachments": {},
   "cell_type": "markdown",
   "metadata": {},
   "source": [
    "# 2023/6/30"
   ]
  },
  {
   "attachments": {},
   "cell_type": "markdown",
   "metadata": {},
   "source": [
    "(3) 416. Partition Equal Subset Sum\n"
   ]
  },
  {
   "cell_type": "code",
   "execution_count": 28,
   "metadata": {},
   "outputs": [],
   "source": [
    "class Solution:\n",
    "    def canPartition(self, nums: List[int]) -> bool:\n",
    "        total_sum = sum(nums)\n",
    "        \n",
    "        # If the total sum is odd, it cannot be partitioned into two equal subsets\n",
    "        if total_sum % 2 != 0:\n",
    "            return False\n",
    "        \n",
    "        target = total_sum // 2\n",
    "        \n",
    "        dp = [False] * (target + 1)\n",
    "        dp[0] = True\n",
    "        \n",
    "        for num in nums:\n",
    "            # Iterate in reverse order to prevent using the same element multiple times\n",
    "            for i in range(target, num - 1, -1):\n",
    "                # Determine what can be created and record TRUE and prevent the total that can be created from being wiped out by FALSE\n",
    "                dp[i] = dp[i] or dp[i - num]\n",
    "        \n",
    "        return dp[target]\n"
   ]
  },
  {
   "attachments": {},
   "cell_type": "markdown",
   "metadata": {},
   "source": [
    "# 2023/7/6"
   ]
  },
  {
   "attachments": {},
   "cell_type": "markdown",
   "metadata": {},
   "source": [
    "(4) Unique Paths"
   ]
  },
  {
   "cell_type": "code",
   "execution_count": 40,
   "metadata": {},
   "outputs": [],
   "source": [
    "class Solution:\n",
    "    def uniquePaths(self, m: int, n: int) -> int:\n",
    "        dp = [[0 for i in range(n)] for j in range(m)]\n",
    "        \n",
    "        for i in range(m):\n",
    "            dp[i][0] = 1\n",
    "        \n",
    "        for j in range(n):\n",
    "            dp[0][j] = 1\n",
    "        \n",
    "        for i in range(1,m):\n",
    "            for j in range(1,n):\n",
    "                dp[i][j] = dp[i-1][j] + dp[i][j-1]\n",
    "\n",
    "        return dp[m-1][n-1]  "
   ]
  },
  {
   "cell_type": "code",
   "execution_count": null,
   "metadata": {},
   "outputs": [],
   "source": []
  }
 ],
 "metadata": {
  "kernelspec": {
   "display_name": "leetcode",
   "language": "python",
   "name": "python3"
  },
  "language_info": {
   "codemirror_mode": {
    "name": "ipython",
    "version": 3
   },
   "file_extension": ".py",
   "mimetype": "text/x-python",
   "name": "python",
   "nbconvert_exporter": "python",
   "pygments_lexer": "ipython3",
   "version": "3.10.10"
  },
  "orig_nbformat": 4
 },
 "nbformat": 4,
 "nbformat_minor": 2
}
