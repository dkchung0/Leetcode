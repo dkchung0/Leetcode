{
 "cells": [
  {
   "attachments": {},
   "cell_type": "markdown",
   "metadata": {},
   "source": [
    "# Martix\n",
    "\n",
    "- 四個方向指針"
   ]
  },
  {
   "cell_type": "code",
   "execution_count": 1,
   "metadata": {},
   "outputs": [],
   "source": [
    "from typing import List\n",
    "from typing import Optional"
   ]
  },
  {
   "attachments": {},
   "cell_type": "markdown",
   "metadata": {},
   "source": [
    "# 2023/5/14"
   ]
  },
  {
   "attachments": {},
   "cell_type": "markdown",
   "metadata": {},
   "source": [
    "(1) 54. Spiral Matrix"
   ]
  },
  {
   "cell_type": "code",
   "execution_count": null,
   "metadata": {},
   "outputs": [],
   "source": [
    "class Solution:\n",
    "    def spiralOrder(self, matrix: List[List[int]]) -> List[int]:\n",
    "        \n",
    "        n ,m  = len(matrix[0]) , len(matrix) \n",
    "        ans = []\n",
    "        up, down, left, right = 0,len(matrix)-1, 0, len(matrix[0])-1\n",
    "\n",
    "        while len(ans)< n*m:\n",
    "            \n",
    "            #從左取到右\n",
    "            for i in range(left,right+1):\n",
    "                ans.append(matrix[up][i])\n",
    "            up+=1\n",
    "            if up > down:\n",
    "                break\n",
    "            \n",
    "            #從上取到下\n",
    "            for i in range(up,down+1):\n",
    "                ans.append(matrix[i][right])\n",
    "            right-=1\n",
    "            if  right<left:\n",
    "                break\n",
    "            \n",
    "            #從右取到左\n",
    "            for i in range(right,left-1,-1):\n",
    "                ans.append(matrix[down][i])\n",
    "            down-=1\n",
    "            if down < up:\n",
    "                break\n",
    "            \n",
    "            #從下取到上\n",
    "            for i in range(down,up-1,-1):\n",
    "                ans.append(matrix[i][left])\n",
    "            left += 1\n",
    "            if left > right:\n",
    "                break\n",
    "            \n",
    "        return ans"
   ]
  }
 ],
 "metadata": {
  "kernelspec": {
   "display_name": "leetcode",
   "language": "python",
   "name": "python3"
  },
  "language_info": {
   "codemirror_mode": {
    "name": "ipython",
    "version": 3
   },
   "file_extension": ".py",
   "mimetype": "text/x-python",
   "name": "python",
   "nbconvert_exporter": "python",
   "pygments_lexer": "ipython3",
   "version": "3.10.10"
  },
  "orig_nbformat": 4
 },
 "nbformat": 4,
 "nbformat_minor": 2
}
