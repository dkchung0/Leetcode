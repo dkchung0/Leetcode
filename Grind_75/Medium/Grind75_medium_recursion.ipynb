{
 "cells": [
  {
   "attachments": {},
   "cell_type": "markdown",
   "metadata": {},
   "source": [
    "# Recursion\n",
    "- backtracking"
   ]
  },
  {
   "cell_type": "code",
   "execution_count": 53,
   "metadata": {},
   "outputs": [],
   "source": [
    "from collections import deque\n",
    "from collections import defaultdict\n",
    "from typing import List"
   ]
  },
  {
   "attachments": {},
   "cell_type": "markdown",
   "metadata": {},
   "source": [
    "# 2023/7/10"
   ]
  },
  {
   "attachments": {},
   "cell_type": "markdown",
   "metadata": {},
   "source": [
    "(1) 46. Permutations"
   ]
  },
  {
   "cell_type": "code",
   "execution_count": 54,
   "metadata": {},
   "outputs": [],
   "source": [
    "class Solution:\n",
    "    def permute(self, nums: List[int]) -> List[List[int]]:\n",
    "        \n",
    "        result = []\n",
    "        path = []\n",
    "        def backtracking(nums):\n",
    "            #Set the recursive termination condition\n",
    "            if len(path) == len(nums):\n",
    "                #Shallow copy \n",
    "                result.append(path[:])\n",
    "                return \n",
    "              \n",
    "            for i in range(len(nums)):\n",
    "                if nums[i] not in path:\n",
    "                    path.append(nums[i])\n",
    "                    backtracking(nums)\n",
    "                    path.pop()\n",
    "        \n",
    "        backtracking(nums)\n",
    "        return result"
   ]
  },
  {
   "cell_type": "markdown",
   "metadata": {},
   "source": [
    "# 2023/7/11"
   ]
  },
  {
   "attachments": {},
   "cell_type": "markdown",
   "metadata": {},
   "source": [
    "(2) 78. Subsets"
   ]
  },
  {
   "cell_type": "code",
   "execution_count": 63,
   "metadata": {},
   "outputs": [],
   "source": [
    "class Solution:\n",
    "    def subsets(self, nums: List[int]) -> List[List[int]]:\n",
    "        \n",
    "        result = []\n",
    "        \n",
    "        def combination(start, path):\n",
    "            result.append(path[:])\n",
    "            \n",
    "            for i in range(start, len(nums)):\n",
    "                path.append(nums[i])\n",
    "                combination(i + 1, path)\n",
    "                path.pop()\n",
    "        \n",
    "        combination(0, [])\n",
    "        return result"
   ]
  },
  {
   "cell_type": "markdown",
   "metadata": {},
   "source": [
    "# 2023/7/14"
   ]
  },
  {
   "cell_type": "markdown",
   "metadata": {},
   "source": [
    "(3) 17. Letter Combinations of a Phone Number"
   ]
  },
  {
   "cell_type": "code",
   "execution_count": 72,
   "metadata": {},
   "outputs": [],
   "source": [
    "class Solution:\n",
    "    def letterCombinations(self, digits: str) -> List[str]:\n",
    "\n",
    "        if len(digits)==0:\n",
    "            return []\n",
    "\n",
    "        letter_dict = {\n",
    "                        \"2\":[\"a\",\"b\",\"c\"],\n",
    "                        \"3\":[\"d\",\"e\",\"f\"],\n",
    "                        \"4\":[\"g\",\"h\",\"i\"],\n",
    "                        \"5\":[\"j\",\"k\",\"l\"],\n",
    "                        \"6\":[\"m\",\"n\",\"o\"],\n",
    "                        \"7\":[\"p\",\"q\",\"r\",\"s\"],\n",
    "                        \"8\":[\"t\",\"u\",\"v\"],\n",
    "                        \"9\":[\"w\",\"x\",\"y\",\"z\"]\n",
    "                        }\n",
    "        result = []\n",
    "        n = len(digits)\n",
    "        def dfs(digits,path):\n",
    "                        \n",
    "            if len(path)==n:\n",
    "                result.append(path)\n",
    "                return\n",
    "\n",
    "            for i in letter_dict[digits[0]]:\n",
    "                path += i\n",
    "                dfs(digits[1:],path)\n",
    "                path = path[:-1]\n",
    "        \n",
    "        dfs(digits,\"\")\n",
    "        return result"
   ]
  }
 ],
 "metadata": {
  "kernelspec": {
   "display_name": "leetcode",
   "language": "python",
   "name": "python3"
  },
  "language_info": {
   "codemirror_mode": {
    "name": "ipython",
    "version": 3
   },
   "file_extension": ".py",
   "mimetype": "text/x-python",
   "name": "python",
   "nbconvert_exporter": "python",
   "pygments_lexer": "ipython3",
   "version": "3.10.10"
  },
  "orig_nbformat": 4
 },
 "nbformat": 4,
 "nbformat_minor": 2
}
