{
 "cells": [
  {
   "attachments": {},
   "cell_type": "markdown",
   "metadata": {},
   "source": [
    "# Binary Tree\n",
    "\n",
    "- DFS(遞迴)\n",
    "- BFS(queue)\n",
    "- 透過level維護樹的高度\n",
    "- Binary Tree Traversal:Preorder(DFS)、Inorder(DFS)、Postorder(DFS)、Level-order(BFS)"
   ]
  },
  {
   "cell_type": "code",
   "execution_count": 3,
   "metadata": {},
   "outputs": [],
   "source": [
    "from typing import List\n",
    "from typing import Optional\n",
    "from collections import defaultdict\n",
    "import collections"
   ]
  },
  {
   "attachments": {},
   "cell_type": "markdown",
   "metadata": {},
   "source": [
    "# 2023/5/15"
   ]
  },
  {
   "attachments": {},
   "cell_type": "markdown",
   "metadata": {},
   "source": [
    "(1) 102. Binary Tree Level Order Traversal"
   ]
  },
  {
   "cell_type": "code",
   "execution_count": 4,
   "metadata": {},
   "outputs": [],
   "source": [
    "class TreeNode:\n",
    "    def __init__(self, val=0, left=None, right=None):\n",
    "        self.val = val\n",
    "        self.left = left\n",
    "        self.right = right\n",
    "class Solution:\n",
    "    def levelOrder(self, root: Optional[TreeNode]) -> List[List[int]]:\n",
    "\n",
    "        if not root :\n",
    "            return []\n",
    "        \n",
    "        q = collections.deque()\n",
    "        # setting tree height level\n",
    "        q.append([root,0])\n",
    "        res=[]\n",
    "\n",
    "        while q:\n",
    "            node,level = q.popleft()\n",
    "            if level == len(res):\n",
    "                res.append([])\n",
    "\n",
    "            res[level].append(node.val)\n",
    "\n",
    "            if node.left:\n",
    "                q.append([node.left,level+1])\n",
    "            if node.right:\n",
    "                q.append([node.right,level+1])\n",
    "        \n",
    "        return res"
   ]
  },
  {
   "attachments": {},
   "cell_type": "markdown",
   "metadata": {},
   "source": [
    "(2) 236. Lowest Common Ancestor of a Binary Tree"
   ]
  },
  {
   "cell_type": "code",
   "execution_count": 5,
   "metadata": {},
   "outputs": [],
   "source": [
    "class TreeNode:\n",
    "    def __init__(self, x):\n",
    "        self.val = x\n",
    "        self.left = None\n",
    "        self.right = None\n",
    "\n",
    "class Solution:\n",
    "    def lowestCommonAncestor(self, root: 'TreeNode', p: 'TreeNode', q: 'TreeNode') -> 'TreeNode':\n",
    "\n",
    "        # 是None就return None\n",
    "        if not root or root==p or root==q:\n",
    "            return root \n",
    "\n",
    "        left = self.lowestCommonAncestor(root.left, p, q)\n",
    "        right = self.lowestCommonAncestor(root.right, p, q)\n",
    "\n",
    "        \n",
    "        # 第二階段在判斷\n",
    "        if left and right:\n",
    "            return root\n",
    "        elif left :\n",
    "            return left\n",
    "        else :\n",
    "            return right "
   ]
  },
  {
   "attachments": {},
   "cell_type": "markdown",
   "metadata": {},
   "source": [
    "(3) 199. Binary Tree Right Side View"
   ]
  },
  {
   "cell_type": "code",
   "execution_count": 32,
   "metadata": {},
   "outputs": [],
   "source": [
    "class TreeNode:\n",
    "    def __init__(self, val=0, left=None, right=None):\n",
    "        self.val = val\n",
    "        self.left = left\n",
    "        self.right = right\n",
    "class Solution:\n",
    "    def rightSideView(self, root: Optional[TreeNode]) -> List[int]:\n",
    "\n",
    "        if not root:\n",
    "            return root\n",
    "\n",
    "        q = collections.deque()\n",
    "        q.append([root,0])\n",
    "\n",
    "        ans = []\n",
    "\n",
    "        while q:\n",
    "            node,level = q.popleft()\n",
    "\n",
    "            if len(ans)==level:\n",
    "                ans.append(node.val)\n",
    "            elif len(ans)> level:\n",
    "                ans[-1] = node.val\n",
    "          \n",
    "            if node.left:\n",
    "                q.append([node.left,level+1])\n",
    "            if node.right:\n",
    "                q.append([node.right,level+1])\n",
    "\n",
    "        return ans"
   ]
  },
  {
   "attachments": {},
   "cell_type": "markdown",
   "metadata": {},
   "source": [
    "(4) 105. Construct Binary Tree from Preorder and Inorder Traversal"
   ]
  },
  {
   "cell_type": "code",
   "execution_count": 33,
   "metadata": {},
   "outputs": [],
   "source": [
    "class TreeNode:\n",
    "    def __init__(self, val=0, left=None, right=None):\n",
    "        self.val = val\n",
    "        self.left = left\n",
    "        self.right = right\n",
    "class Solution:\n",
    "    '''\n",
    "    inorder特性:根節點左邊必為左子樹,右邊必為右子樹\n",
    "    preorder特性:一種以左為主的DFS,用遞迴去處理尤佳\n",
    "    '''\n",
    "    def buildTree(self, preorder: List[int], inorder: List[int]) -> Optional[TreeNode]:\n",
    "\n",
    "        if not inorder:\n",
    "            return None\n",
    "\n",
    "        root = TreeNode(preorder.pop(0))\n",
    "        node_index = inorder.index(root.val)\n",
    "\n",
    "        # 當索引超出了list的範圍時，會返回空list\n",
    "        root.left = self.buildTree(preorder,inorder[:node_index])\n",
    "        root.right = self.buildTree(preorder,inorder[node_index+1:])\n",
    "\n",
    "        return root"
   ]
  }
 ],
 "metadata": {
  "kernelspec": {
   "display_name": "leetcode",
   "language": "python",
   "name": "python3"
  },
  "language_info": {
   "codemirror_mode": {
    "name": "ipython",
    "version": 3
   },
   "file_extension": ".py",
   "mimetype": "text/x-python",
   "name": "python",
   "nbconvert_exporter": "python",
   "pygments_lexer": "ipython3",
   "version": "3.10.10"
  },
  "orig_nbformat": 4
 },
 "nbformat": 4,
 "nbformat_minor": 2
}
